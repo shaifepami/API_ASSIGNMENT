{
 "cells": [
  {
   "cell_type": "markdown",
   "metadata": {},
   "source": [
    "#  Unit 5 - Financial Planning"
   ]
  },
  {
   "cell_type": "code",
   "execution_count": 1,
   "metadata": {},
   "outputs": [],
   "source": [
    "# Initial imports\n",
    "import os\n",
    "import requests\n",
    "import json\n",
    "import pandas as pd\n",
    "from dotenv import load_dotenv\n",
    "import alpaca_trade_api as tradeapi\n",
    "from MCForecastTools import MCSimulation"
   ]
  },
  {
   "cell_type": "code",
   "execution_count": 2,
   "metadata": {},
   "outputs": [
    {
     "data": {
      "text/plain": [
       "True"
      ]
     },
     "execution_count": 2,
     "metadata": {},
     "output_type": "execute_result"
    }
   ],
   "source": [
    "# Load .env environment variables\n",
    "load_dotenv(\"envi.env\")"
   ]
  },
  {
   "cell_type": "markdown",
   "metadata": {},
   "source": [
    "#  Part 1 - Personal Finance Planner"
   ]
  },
  {
   "cell_type": "markdown",
   "metadata": {},
   "source": [
    "## Collect Crypto Prices Using the requests Library"
   ]
  },
  {
   "cell_type": "code",
   "execution_count": 3,
   "metadata": {},
   "outputs": [],
   "source": [
    " # Set current amount of crypto assets\n",
    "my_btc = 1.2\n",
    "my_eth = 5.3"
   ]
  },
  {
   "cell_type": "code",
   "execution_count": 4,
   "metadata": {},
   "outputs": [],
   "source": [
    " # Crypto API URLs\n",
    "btc_url = \"https://api.alternative.me/v2/ticker/Bitcoin/?convert=CAD\"\n",
    "eth_url = \"https://api.alternative.me/v2/ticker/Ethereum/?convert=CAD\""
   ]
  },
  {
   "cell_type": "code",
   "execution_count": 5,
   "metadata": {},
   "outputs": [
    {
     "name": "stdout",
     "output_type": "stream",
     "text": [
      "{\n",
      "    \"data\": {\n",
      "        \"1\": {\n",
      "            \"id\": 1,\n",
      "            \"name\": \"Bitcoin\",\n",
      "            \"symbol\": \"BTC\",\n",
      "            \"website_slug\": \"bitcoin\",\n",
      "            \"rank\": 1,\n",
      "            \"circulating_supply\": 18613193,\n",
      "            \"total_supply\": 18613193,\n",
      "            \"max_supply\": 21000000,\n",
      "            \"quotes\": {\n",
      "                \"USD\": {\n",
      "                    \"price\": 33536.0,\n",
      "                    \"volume_24h\": 51051172925,\n",
      "                    \"market_cap\": 626729781355,\n",
      "                    \"percentage_change_1h\": 0.648790655619104,\n",
      "                    \"percentage_change_24h\": 10.2310544415781,\n",
      "                    \"percentage_change_7d\": -5.7636791932097,\n",
      "                    \"percent_change_1h\": 0.648790655619104,\n",
      "                    \"percent_change_24h\": 10.2310544415781,\n",
      "                    \"percent_change_7d\": -5.7636791932097\n",
      "                },\n",
      "                \"CAD\": {\n",
      "                    \"price\": 42996.5056,\n",
      "                    \"volume_24h\": 65452708807.1425,\n",
      "                    \"market_cap\": 803530252675.246,\n",
      "                    \"percent_change_1h\": 0.648790655619104,\n",
      "                    \"percent_change_24h\": 10.2310544415781,\n",
      "                    \"percent_change_7d\": -5.7636791932097\n",
      "                }\n",
      "            },\n",
      "            \"last_updated\": 1611876811\n",
      "        }\n",
      "    },\n",
      "    \"metadata\": {\n",
      "        \"timestamp\": 1611876811,\n",
      "        \"num_cryptocurrencies\": 1371,\n",
      "        \"error\": null\n",
      "    }\n",
      "}\n"
     ]
    }
   ],
   "source": [
    "# Fetch current BTC price\n",
    "response_data_btc = requests.get(btc_url).json()\n",
    "print(json.dumps(response_data_btc, indent=4))"
   ]
  },
  {
   "cell_type": "code",
   "execution_count": 6,
   "metadata": {},
   "outputs": [
    {
     "name": "stdout",
     "output_type": "stream",
     "text": [
      "33536.0\n",
      "42996.5056\n"
     ]
    }
   ],
   "source": [
    " # Fetch current BTC price in USD and CAD\n",
    "    \n",
    "### Currency = USD\n",
    "usd_price_btc =response_data_btc['data']['1']['quotes']['USD']['price']\n",
    "print(usd_price_btc)\n",
    "\n",
    "### Currency = CAD\n",
    "cad_price_btc =response_data_btc['data']['1']['quotes']['CAD']['price']\n",
    "print(cad_price_btc)"
   ]
  },
  {
   "cell_type": "code",
   "execution_count": 7,
   "metadata": {},
   "outputs": [
    {
     "name": "stdout",
     "output_type": "stream",
     "text": [
      "{\n",
      "    \"data\": {\n",
      "        \"1027\": {\n",
      "            \"id\": 1027,\n",
      "            \"name\": \"Ethereum\",\n",
      "            \"symbol\": \"ETH\",\n",
      "            \"website_slug\": \"ethereum\",\n",
      "            \"rank\": 2,\n",
      "            \"circulating_supply\": 114443549,\n",
      "            \"total_supply\": 114443549,\n",
      "            \"max_supply\": 0,\n",
      "            \"quotes\": {\n",
      "                \"USD\": {\n",
      "                    \"price\": 1348.05,\n",
      "                    \"volume_24h\": 33013952486,\n",
      "                    \"market_cap\": 154790147167,\n",
      "                    \"percentage_change_1h\": -0.604039101835712,\n",
      "                    \"percentage_change_24h\": 8.28957101369591,\n",
      "                    \"percentage_change_7d\": -2.72762316677948,\n",
      "                    \"percent_change_1h\": -0.604039101835712,\n",
      "                    \"percent_change_24h\": 8.28957101369591,\n",
      "                    \"percent_change_7d\": -2.72762316677948\n",
      "                },\n",
      "                \"CAD\": {\n",
      "                    \"price\": 1728.334905,\n",
      "                    \"volume_24h\": 42327188482.3006,\n",
      "                    \"market_cap\": 198456447682.811,\n",
      "                    \"percent_change_1h\": -0.604039101835712,\n",
      "                    \"percent_change_24h\": 8.28957101369591,\n",
      "                    \"percent_change_7d\": -2.72762316677948\n",
      "                }\n",
      "            },\n",
      "            \"last_updated\": 1611876639\n",
      "        }\n",
      "    },\n",
      "    \"metadata\": {\n",
      "        \"timestamp\": 1611876639,\n",
      "        \"num_cryptocurrencies\": 1371,\n",
      "        \"error\": null\n",
      "    }\n",
      "}\n"
     ]
    }
   ],
   "source": [
    "# Fetch current ETH price\n",
    "# YOUR CODE HERE!]\n",
    "# getting the content of eth\n",
    "response_data_eth = requests.get(eth_url).json()\n",
    "print(json.dumps(response_data_eth, indent=4))"
   ]
  },
  {
   "cell_type": "code",
   "execution_count": 8,
   "metadata": {},
   "outputs": [
    {
     "name": "stdout",
     "output_type": "stream",
     "text": [
      "1348.05\n",
      "1728.334905\n"
     ]
    }
   ],
   "source": [
    " # Fetch current eth price in USD & CAD\n",
    "# Currency = USD\n",
    "usd_price_eth =response_data_eth['data']['1027']['quotes']['USD']['price']\n",
    "print(usd_price_eth)\n",
    "\n",
    "# Currency = CAD\n",
    "cad_price_eth =response_data_eth['data']['1027']['quotes']['CAD']['price']\n",
    "print(cad_price_eth)\n",
    "\n"
   ]
  },
  {
   "cell_type": "code",
   "execution_count": 9,
   "metadata": {},
   "outputs": [
    {
     "name": "stdout",
     "output_type": "stream",
     "text": [
      "40243.2\n",
      "7144.665\n"
     ]
    },
    {
     "data": {
      "text/plain": [
       "47387.865"
      ]
     },
     "execution_count": 9,
     "metadata": {},
     "output_type": "execute_result"
    }
   ],
   "source": [
    "# Compute current value of my crpto\n",
    "my_btc_value = float(usd_price_btc )  * float(my_btc)\n",
    "print(my_btc_value)\n",
    "my_eth_value = float(usd_price_eth) * float(my_eth)\n",
    "print(my_eth_value)\n",
    "\n",
    "total_crypto = float(my_btc_value) + float(my_eth_value)\n",
    "total_crypto"
   ]
  },
  {
   "cell_type": "code",
   "execution_count": 10,
   "metadata": {},
   "outputs": [
    {
     "name": "stdout",
     "output_type": "stream",
     "text": [
      "The current value of your 1.2 BTC is $40243.20\n",
      "The current value of your 5.3 ETH is $7144.66\n"
     ]
    }
   ],
   "source": [
    "# Print current crypto wallet balance\n",
    "print(f\"The current value of your {my_btc} BTC is ${my_btc_value:0.2f}\")\n",
    "print(f\"The current value of your {my_eth} ETH is ${my_eth_value:0.2f}\")"
   ]
  },
  {
   "cell_type": "markdown",
   "metadata": {},
   "source": [
    "#  Collect Investments Data Using Alpaca: SPY (stocks) and AGG (bonds)"
   ]
  },
  {
   "cell_type": "code",
   "execution_count": 11,
   "metadata": {},
   "outputs": [],
   "source": [
    " # Current amount of shares\n",
    "my_agg = 200\n",
    "my_spy = 50"
   ]
  },
  {
   "cell_type": "code",
   "execution_count": 12,
   "metadata": {},
   "outputs": [
    {
     "data": {
      "text/plain": [
       "str"
      ]
     },
     "execution_count": 12,
     "metadata": {},
     "output_type": "execute_result"
    }
   ],
   "source": [
    "# Set Alpaca API key and secret\n",
    "alpaca_api_key = os.getenv(\"ALPACA_API_KEY\")\n",
    "alpaca_secret_key = os.getenv(\"ALPACA_SECRET_KEY\")\n",
    "api_key = os.getenv(\"QUANDL_API_KEY\")\n",
    "type(alpaca_api_key)"
   ]
  },
  {
   "cell_type": "code",
   "execution_count": 13,
   "metadata": {},
   "outputs": [
    {
     "name": "stdout",
     "output_type": "stream",
     "text": [
      "Alpaca Key type: <class 'str'>\n",
      "Alpaca Secret Key type: <class 'str'>\n"
     ]
    }
   ],
   "source": [
    "# Verify that Alpaca key and secret were correctly loaded\n",
    "print(f\"Alpaca Key type: {type(alpaca_api_key)}\")\n",
    "print(f\"Alpaca Secret Key type: {type(alpaca_secret_key)}\")"
   ]
  },
  {
   "cell_type": "code",
   "execution_count": 14,
   "metadata": {},
   "outputs": [],
   "source": [
    "alpaca  = tradeapi.REST(\n",
    "    alpaca_api_key,\n",
    "    alpaca_secret_key,\n",
    "    api_version = \"v2\"\n",
    ")"
   ]
  },
  {
   "cell_type": "code",
   "execution_count": 15,
   "metadata": {},
   "outputs": [],
   "source": [
    "# Format current date as ISO format\n",
    "today = pd.Timestamp(\"2021-01-27\", tz=\"America/New_York\").isoformat()"
   ]
  },
  {
   "cell_type": "code",
   "execution_count": 16,
   "metadata": {},
   "outputs": [
    {
     "data": {
      "text/html": [
       "<div>\n",
       "<style scoped>\n",
       "    .dataframe tbody tr th:only-of-type {\n",
       "        vertical-align: middle;\n",
       "    }\n",
       "\n",
       "    .dataframe tbody tr th {\n",
       "        vertical-align: top;\n",
       "    }\n",
       "\n",
       "    .dataframe thead th {\n",
       "        text-align: right;\n",
       "    }\n",
       "</style>\n",
       "<table border=\"1\" class=\"dataframe\">\n",
       "  <thead>\n",
       "    <tr style=\"text-align: right;\">\n",
       "      <th></th>\n",
       "      <th>shares</th>\n",
       "    </tr>\n",
       "  </thead>\n",
       "  <tbody>\n",
       "    <tr>\n",
       "      <th>AGG</th>\n",
       "      <td>200</td>\n",
       "    </tr>\n",
       "    <tr>\n",
       "      <th>SPY</th>\n",
       "      <td>50</td>\n",
       "    </tr>\n",
       "  </tbody>\n",
       "</table>\n",
       "</div>"
      ],
      "text/plain": [
       "     shares\n",
       "AGG     200\n",
       "SPY      50"
      ]
     },
     "execution_count": 16,
     "metadata": {},
     "output_type": "execute_result"
    }
   ],
   "source": [
    "# Set current amount of shares data\n",
    "shares_data = {\n",
    "    \"shares\": [my_agg, my_spy]\n",
    "}\n",
    "\n",
    "# Set the tickers\n",
    "tickers = [\"AGG\", \"SPY\"]\n",
    "\n",
    "# Create the shares DataFrame\n",
    "df_shares = pd.DataFrame(shares_data, index=tickers)\n",
    "\n",
    "# Display shares data\n",
    "df_shares"
   ]
  },
  {
   "cell_type": "code",
   "execution_count": 17,
   "metadata": {},
   "outputs": [],
   "source": [
    "# Set timeframe to '1D' for Alpaca API\n",
    "timeframe = \"1D\""
   ]
  },
  {
   "cell_type": "code",
   "execution_count": 18,
   "metadata": {},
   "outputs": [
    {
     "data": {
      "text/html": [
       "<div>\n",
       "<style scoped>\n",
       "    .dataframe tbody tr th:only-of-type {\n",
       "        vertical-align: middle;\n",
       "    }\n",
       "\n",
       "    .dataframe tbody tr th {\n",
       "        vertical-align: top;\n",
       "    }\n",
       "\n",
       "    .dataframe thead tr th {\n",
       "        text-align: left;\n",
       "    }\n",
       "\n",
       "    .dataframe thead tr:last-of-type th {\n",
       "        text-align: right;\n",
       "    }\n",
       "</style>\n",
       "<table border=\"1\" class=\"dataframe\">\n",
       "  <thead>\n",
       "    <tr>\n",
       "      <th></th>\n",
       "      <th colspan=\"5\" halign=\"left\">AGG</th>\n",
       "      <th colspan=\"5\" halign=\"left\">SPY</th>\n",
       "    </tr>\n",
       "    <tr>\n",
       "      <th></th>\n",
       "      <th>open</th>\n",
       "      <th>high</th>\n",
       "      <th>low</th>\n",
       "      <th>close</th>\n",
       "      <th>volume</th>\n",
       "      <th>open</th>\n",
       "      <th>high</th>\n",
       "      <th>low</th>\n",
       "      <th>close</th>\n",
       "      <th>volume</th>\n",
       "    </tr>\n",
       "    <tr>\n",
       "      <th>time</th>\n",
       "      <th></th>\n",
       "      <th></th>\n",
       "      <th></th>\n",
       "      <th></th>\n",
       "      <th></th>\n",
       "      <th></th>\n",
       "      <th></th>\n",
       "      <th></th>\n",
       "      <th></th>\n",
       "      <th></th>\n",
       "    </tr>\n",
       "  </thead>\n",
       "  <tbody>\n",
       "    <tr>\n",
       "      <th>2021-01-27 00:00:00-05:00</th>\n",
       "      <td>117.61</td>\n",
       "      <td>117.67</td>\n",
       "      <td>117.04</td>\n",
       "      <td>117.52</td>\n",
       "      <td>3509666</td>\n",
       "      <td>380.22</td>\n",
       "      <td>380.32</td>\n",
       "      <td>372.01</td>\n",
       "      <td>374.44</td>\n",
       "      <td>99246554</td>\n",
       "    </tr>\n",
       "  </tbody>\n",
       "</table>\n",
       "</div>"
      ],
      "text/plain": [
       "                              AGG                                      SPY  \\\n",
       "                             open    high     low   close   volume    open   \n",
       "time                                                                         \n",
       "2021-01-27 00:00:00-05:00  117.61  117.67  117.04  117.52  3509666  380.22   \n",
       "\n",
       "                                                             \n",
       "                             high     low   close    volume  \n",
       "time                                                         \n",
       "2021-01-27 00:00:00-05:00  380.32  372.01  374.44  99246554  "
      ]
     },
     "execution_count": 18,
     "metadata": {},
     "output_type": "execute_result"
    }
   ],
   "source": [
    "# Get current closing prices for FB and TWTR\n",
    "df_portfolio = alpaca.get_barset(\n",
    "    tickers,\n",
    "    timeframe,\n",
    "    start = today,\n",
    "    end = today\n",
    ").df\n",
    "\n",
    "# Display sample data\n",
    "df_portfolio"
   ]
  },
  {
   "cell_type": "code",
   "execution_count": 19,
   "metadata": {},
   "outputs": [
    {
     "data": {
      "text/html": [
       "<div>\n",
       "<style scoped>\n",
       "    .dataframe tbody tr th:only-of-type {\n",
       "        vertical-align: middle;\n",
       "    }\n",
       "\n",
       "    .dataframe tbody tr th {\n",
       "        vertical-align: top;\n",
       "    }\n",
       "\n",
       "    .dataframe thead th {\n",
       "        text-align: right;\n",
       "    }\n",
       "</style>\n",
       "<table border=\"1\" class=\"dataframe\">\n",
       "  <thead>\n",
       "    <tr style=\"text-align: right;\">\n",
       "      <th></th>\n",
       "      <th>AGG</th>\n",
       "      <th>SPY</th>\n",
       "    </tr>\n",
       "  </thead>\n",
       "  <tbody>\n",
       "    <tr>\n",
       "      <th>2021-01-27</th>\n",
       "      <td>117.52</td>\n",
       "      <td>374.44</td>\n",
       "    </tr>\n",
       "  </tbody>\n",
       "</table>\n",
       "</div>"
      ],
      "text/plain": [
       "               AGG     SPY\n",
       "2021-01-27  117.52  374.44"
      ]
     },
     "execution_count": 19,
     "metadata": {},
     "output_type": "execute_result"
    }
   ],
   "source": [
    "# Create and empty DataFrame for closing prices\n",
    "df_closing_prices = pd.DataFrame()\n",
    "\n",
    "# Fetch the closing prices of FB and TWTR\n",
    "df_closing_prices[\"AGG\"] = df_portfolio[\"AGG\"][\"close\"]\n",
    "df_closing_prices[\"SPY\"] = df_portfolio[\"SPY\"][\"close\"]\n",
    "\n",
    "# Drop the time component of the date\n",
    "df_closing_prices.index = df_closing_prices.index.date\n",
    "\n",
    "# Display sample data\n",
    "df_closing_prices.head(10)"
   ]
  },
  {
   "cell_type": "code",
   "execution_count": 20,
   "metadata": {},
   "outputs": [
    {
     "name": "stdout",
     "output_type": "stream",
     "text": [
      "117.52\n",
      "374.44\n",
      "Current AGG closing price: $117.52\n",
      "Current SPY closing price: $374.44\n"
     ]
    }
   ],
   "source": [
    "# Fetch the current closing prices from the DataFrame into  variables for AGG & SPY\n",
    "agg_close_price = float(df_portfolio[\"AGG\"][\"close\"])\n",
    "spy_close_price = float(df_portfolio[\"SPY\"][\"close\"])\n",
    "print(agg_close_price)\n",
    "print(spy_close_price)\n",
    "# Print AGG and SPY close prices\n",
    "print(f\"Current AGG closing price: ${agg_close_price}\")\n",
    "print(f\"Current SPY closing price: ${spy_close_price}\")"
   ]
  },
  {
   "cell_type": "code",
   "execution_count": 21,
   "metadata": {},
   "outputs": [
    {
     "name": "stdout",
     "output_type": "stream",
     "text": [
      "The current value of the 200 AGG shares is $23504.00\n",
      "The current value of the 50 SPY shares is $18722.00\n"
     ]
    },
    {
     "data": {
      "text/plain": [
       "42226.0"
      ]
     },
     "execution_count": 21,
     "metadata": {},
     "output_type": "execute_result"
    }
   ],
   "source": [
    "# Compute the current value in dollars of the stock portfolio\n",
    "agg_value = agg_close_price * df_shares.loc[\"AGG\"][\"shares\"]\n",
    "spy_value = spy_close_price * df_shares.loc[\"SPY\"][\"shares\"]\n",
    "\n",
    "total_shares = float(agg_value ) + float(spy_value)\n",
    "\n",
    "# Print the current value of the stocks portfolio\n",
    "print(f\"The current value of the {df_shares.loc['AGG']['shares']} AGG shares is ${agg_value:0.2f}\")\n",
    "print(f\"The current value of the {df_shares.loc['SPY']['shares']} SPY shares is ${spy_value:0.2f}\")\n",
    "total_shares"
   ]
  },
  {
   "cell_type": "markdown",
   "metadata": {},
   "source": [
    "#  Savings Health Analysis"
   ]
  },
  {
   "cell_type": "code",
   "execution_count": 22,
   "metadata": {},
   "outputs": [],
   "source": [
    "# Set monthly household income\n",
    "monthly_income = 12000\n"
   ]
  },
  {
   "cell_type": "code",
   "execution_count": 23,
   "metadata": {},
   "outputs": [
    {
     "data": {
      "text/html": [
       "<div>\n",
       "<style scoped>\n",
       "    .dataframe tbody tr th:only-of-type {\n",
       "        vertical-align: middle;\n",
       "    }\n",
       "\n",
       "    .dataframe tbody tr th {\n",
       "        vertical-align: top;\n",
       "    }\n",
       "\n",
       "    .dataframe thead th {\n",
       "        text-align: right;\n",
       "    }\n",
       "</style>\n",
       "<table border=\"1\" class=\"dataframe\">\n",
       "  <thead>\n",
       "    <tr style=\"text-align: right;\">\n",
       "      <th></th>\n",
       "      <th>Amount</th>\n",
       "    </tr>\n",
       "  </thead>\n",
       "  <tbody>\n",
       "    <tr>\n",
       "      <th>CRYPTO</th>\n",
       "      <td>47387.865</td>\n",
       "    </tr>\n",
       "    <tr>\n",
       "      <th>SHARES</th>\n",
       "      <td>42226.000</td>\n",
       "    </tr>\n",
       "  </tbody>\n",
       "</table>\n",
       "</div>"
      ],
      "text/plain": [
       "           Amount\n",
       "CRYPTO  47387.865\n",
       "SHARES  42226.000"
      ]
     },
     "execution_count": 23,
     "metadata": {},
     "output_type": "execute_result"
    }
   ],
   "source": [
    "# Set current amount of shares data\n",
    "savings = {\n",
    "#    \"Amount\": [my_btc_value, agg_value]\n",
    "    \"Amount\": [total_crypto, total_shares]\n",
    "}\n",
    "\n",
    "# Set the tickers\n",
    "tickers = [\"CRYPTO\", \"SHARES\"]\n",
    "\n",
    "# Create the shares DataFrame\n",
    "df_savings = pd.DataFrame(savings, index=tickers)\n",
    "\n",
    "# Display shares data\n",
    "df_savings"
   ]
  },
  {
   "cell_type": "code",
   "execution_count": 24,
   "metadata": {},
   "outputs": [
    {
     "data": {
      "text/plain": [
       "<AxesSubplot:title={'center':'Personal Savings Composition'}, ylabel='Amount'>"
      ]
     },
     "execution_count": 24,
     "metadata": {},
     "output_type": "execute_result"
    },
    {
     "data": {
      "image/png": "[encoded data removed]",
      "text/plain": [
       "<Figure size 432x288 with 1 Axes>"
      ]
     },
     "metadata": {},
     "output_type": "display_data"
    }
   ],
   "source": [
    " # Plot savings pie chart\n",
    "# Create a pie chart to show the proportion of stocks in the portfolio\n",
    "df_savings.plot.pie(y=\"Amount\", x=\"shares\",title=\"Personal Savings Composition\")"
   ]
  },
  {
   "cell_type": "code",
   "execution_count": 25,
   "metadata": {},
   "outputs": [
    {
     "name": "stdout",
     "output_type": "stream",
     "text": [
      "89613.86499999999\n"
     ]
    }
   ],
   "source": [
    "# Set ideal emergency fund\n",
    "emergency_fund = monthly_income * 3\n",
    "\n",
    "# Calculate total amount of savings\n",
    "total_savings = total_crypto + total_shares\n",
    "###total_savings = float(16405.628) + float(40616.500)\n",
    "print(total_savings)\n"
   ]
  },
  {
   "cell_type": "code",
   "execution_count": 26,
   "metadata": {},
   "outputs": [
    {
     "name": "stdout",
     "output_type": "stream",
     "text": [
      "89613.86499999999\n",
      "36000\n",
      "Congratulations! You have enough money in your emergency fund\n"
     ]
    }
   ],
   "source": [
    "# Validate saving health\n",
    "print (total_savings)\n",
    "print(emergency_fund)\n",
    "\n",
    "#If total savings are greater than the emergency fund, display a message congratulating the person for \n",
    "#having enough money in this fund.\n",
    "\n",
    "if total_savings > emergency_fund : \n",
    "    print (\"Congratulations! You have enough money in your emergency fund\")\n",
    "#If total savings are equal to the emergency fund, display a message congratulating the person on reaching \n",
    "# this financial goal.\n",
    "elif total_savings == emergency_fund : \n",
    "    print(\"Congratulations!  you have reached your financial goal\")\n",
    "else :\n",
    "    less_amt = emergency_fund - total_savings\n",
    "    print (f\"You are short of ${less_amt:0.2f} in reaching your savings goals\")\n",
    "    \n"
   ]
  },
  {
   "cell_type": "markdown",
   "metadata": {},
   "source": [
    "#  Part 2 - Retirement Planning"
   ]
  },
  {
   "cell_type": "markdown",
   "metadata": {},
   "source": [
    "## Monte Carlo Simulation"
   ]
  },
  {
   "cell_type": "code",
   "execution_count": 27,
   "metadata": {},
   "outputs": [],
   "source": [
    " # Set start and end dates of five years back from today.\n",
    "# Sample results may vary from the solution based on the time frame chosen\n",
    "start_date = pd.Timestamp('2016-01-26', tz='America/New_York').isoformat()\n",
    "end_date = pd.Timestamp('2021-01-26', tz='America/New_York').isoformat()"
   ]
  },
  {
   "cell_type": "code",
   "execution_count": 28,
   "metadata": {},
   "outputs": [],
   "source": [
    "# Set the tickers\n",
    "tickers = [\"AGG\", \"SPY\"]"
   ]
  },
  {
   "cell_type": "code",
   "execution_count": 29,
   "metadata": {},
   "outputs": [
    {
     "data": {
      "text/html": [
       "<div>\n",
       "<style scoped>\n",
       "    .dataframe tbody tr th:only-of-type {\n",
       "        vertical-align: middle;\n",
       "    }\n",
       "\n",
       "    .dataframe tbody tr th {\n",
       "        vertical-align: top;\n",
       "    }\n",
       "\n",
       "    .dataframe thead tr th {\n",
       "        text-align: left;\n",
       "    }\n",
       "</style>\n",
       "<table border=\"1\" class=\"dataframe\">\n",
       "  <thead>\n",
       "    <tr>\n",
       "      <th></th>\n",
       "      <th colspan=\"5\" halign=\"left\">AGG</th>\n",
       "      <th colspan=\"5\" halign=\"left\">SPY</th>\n",
       "    </tr>\n",
       "    <tr>\n",
       "      <th></th>\n",
       "      <th>open</th>\n",
       "      <th>high</th>\n",
       "      <th>low</th>\n",
       "      <th>close</th>\n",
       "      <th>volume</th>\n",
       "      <th>open</th>\n",
       "      <th>high</th>\n",
       "      <th>low</th>\n",
       "      <th>close</th>\n",
       "      <th>volume</th>\n",
       "    </tr>\n",
       "  </thead>\n",
       "  <tbody>\n",
       "    <tr>\n",
       "      <th>2016-01-26</th>\n",
       "      <td>108.90</td>\n",
       "      <td>108.9950</td>\n",
       "      <td>108.7699</td>\n",
       "      <td>108.900</td>\n",
       "      <td>2023631.0</td>\n",
       "      <td>188.42</td>\n",
       "      <td>190.53</td>\n",
       "      <td>188.0200</td>\n",
       "      <td>190.18</td>\n",
       "      <td>115312517</td>\n",
       "    </tr>\n",
       "    <tr>\n",
       "      <th>2016-01-27</th>\n",
       "      <td>108.91</td>\n",
       "      <td>109.0100</td>\n",
       "      <td>108.7200</td>\n",
       "      <td>108.950</td>\n",
       "      <td>1531148.0</td>\n",
       "      <td>189.58</td>\n",
       "      <td>191.56</td>\n",
       "      <td>187.0600</td>\n",
       "      <td>188.12</td>\n",
       "      <td>157060622</td>\n",
       "    </tr>\n",
       "    <tr>\n",
       "      <th>2016-01-28</th>\n",
       "      <td>108.99</td>\n",
       "      <td>109.0988</td>\n",
       "      <td>108.8201</td>\n",
       "      <td>109.040</td>\n",
       "      <td>2146566.0</td>\n",
       "      <td>189.96</td>\n",
       "      <td>190.20</td>\n",
       "      <td>187.1600</td>\n",
       "      <td>189.14</td>\n",
       "      <td>118949268</td>\n",
       "    </tr>\n",
       "    <tr>\n",
       "      <th>2016-01-29</th>\n",
       "      <td>109.41</td>\n",
       "      <td>109.4800</td>\n",
       "      <td>109.2500</td>\n",
       "      <td>109.320</td>\n",
       "      <td>7404827.0</td>\n",
       "      <td>190.02</td>\n",
       "      <td>193.75</td>\n",
       "      <td>189.8800</td>\n",
       "      <td>193.69</td>\n",
       "      <td>145410523</td>\n",
       "    </tr>\n",
       "    <tr>\n",
       "      <th>2016-02-01</th>\n",
       "      <td>109.10</td>\n",
       "      <td>109.2500</td>\n",
       "      <td>108.8415</td>\n",
       "      <td>108.970</td>\n",
       "      <td>4186126.0</td>\n",
       "      <td>192.53</td>\n",
       "      <td>194.58</td>\n",
       "      <td>191.8400</td>\n",
       "      <td>193.69</td>\n",
       "      <td>98369142</td>\n",
       "    </tr>\n",
       "    <tr>\n",
       "      <th>...</th>\n",
       "      <td>...</td>\n",
       "      <td>...</td>\n",
       "      <td>...</td>\n",
       "      <td>...</td>\n",
       "      <td>...</td>\n",
       "      <td>...</td>\n",
       "      <td>...</td>\n",
       "      <td>...</td>\n",
       "      <td>...</td>\n",
       "      <td>...</td>\n",
       "    </tr>\n",
       "    <tr>\n",
       "      <th>2016-06-10</th>\n",
       "      <td>111.54</td>\n",
       "      <td>111.6575</td>\n",
       "      <td>111.4500</td>\n",
       "      <td>111.505</td>\n",
       "      <td>1205373.0</td>\n",
       "      <td>210.46</td>\n",
       "      <td>210.86</td>\n",
       "      <td>209.4300</td>\n",
       "      <td>210.06</td>\n",
       "      <td>80491207</td>\n",
       "    </tr>\n",
       "    <tr>\n",
       "      <th>2016-06-13</th>\n",
       "      <td>111.57</td>\n",
       "      <td>111.6700</td>\n",
       "      <td>111.5300</td>\n",
       "      <td>111.610</td>\n",
       "      <td>1521542.0</td>\n",
       "      <td>209.36</td>\n",
       "      <td>210.37</td>\n",
       "      <td>208.3500</td>\n",
       "      <td>208.44</td>\n",
       "      <td>82156781</td>\n",
       "    </tr>\n",
       "    <tr>\n",
       "      <th>2016-06-14</th>\n",
       "      <td>111.68</td>\n",
       "      <td>111.7300</td>\n",
       "      <td>111.5500</td>\n",
       "      <td>111.555</td>\n",
       "      <td>1695590.0</td>\n",
       "      <td>208.00</td>\n",
       "      <td>208.74</td>\n",
       "      <td>206.9199</td>\n",
       "      <td>208.08</td>\n",
       "      <td>102129228</td>\n",
       "    </tr>\n",
       "    <tr>\n",
       "      <th>2016-06-15</th>\n",
       "      <td>111.67</td>\n",
       "      <td>111.9300</td>\n",
       "      <td>111.6400</td>\n",
       "      <td>111.800</td>\n",
       "      <td>1556713.0</td>\n",
       "      <td>208.54</td>\n",
       "      <td>209.36</td>\n",
       "      <td>207.5300</td>\n",
       "      <td>207.75</td>\n",
       "      <td>82945507</td>\n",
       "    </tr>\n",
       "    <tr>\n",
       "      <th>2016-06-16</th>\n",
       "      <td>111.92</td>\n",
       "      <td>112.0699</td>\n",
       "      <td>111.7800</td>\n",
       "      <td>111.860</td>\n",
       "      <td>2314934.0</td>\n",
       "      <td>206.73</td>\n",
       "      <td>208.57</td>\n",
       "      <td>205.5900</td>\n",
       "      <td>208.42</td>\n",
       "      <td>111547742</td>\n",
       "    </tr>\n",
       "  </tbody>\n",
       "</table>\n",
       "<p>100 rows × 10 columns</p>\n",
       "</div>"
      ],
      "text/plain": [
       "               AGG                                             SPY          \\\n",
       "              open      high       low    close     volume    open    high   \n",
       "2016-01-26  108.90  108.9950  108.7699  108.900  2023631.0  188.42  190.53   \n",
       "2016-01-27  108.91  109.0100  108.7200  108.950  1531148.0  189.58  191.56   \n",
       "2016-01-28  108.99  109.0988  108.8201  109.040  2146566.0  189.96  190.20   \n",
       "2016-01-29  109.41  109.4800  109.2500  109.320  7404827.0  190.02  193.75   \n",
       "2016-02-01  109.10  109.2500  108.8415  108.970  4186126.0  192.53  194.58   \n",
       "...            ...       ...       ...      ...        ...     ...     ...   \n",
       "2016-06-10  111.54  111.6575  111.4500  111.505  1205373.0  210.46  210.86   \n",
       "2016-06-13  111.57  111.6700  111.5300  111.610  1521542.0  209.36  210.37   \n",
       "2016-06-14  111.68  111.7300  111.5500  111.555  1695590.0  208.00  208.74   \n",
       "2016-06-15  111.67  111.9300  111.6400  111.800  1556713.0  208.54  209.36   \n",
       "2016-06-16  111.92  112.0699  111.7800  111.860  2314934.0  206.73  208.57   \n",
       "\n",
       "                                         \n",
       "                 low   close     volume  \n",
       "2016-01-26  188.0200  190.18  115312517  \n",
       "2016-01-27  187.0600  188.12  157060622  \n",
       "2016-01-28  187.1600  189.14  118949268  \n",
       "2016-01-29  189.8800  193.69  145410523  \n",
       "2016-02-01  191.8400  193.69   98369142  \n",
       "...              ...     ...        ...  \n",
       "2016-06-10  209.4300  210.06   80491207  \n",
       "2016-06-13  208.3500  208.44   82156781  \n",
       "2016-06-14  206.9199  208.08  102129228  \n",
       "2016-06-15  207.5300  207.75   82945507  \n",
       "2016-06-16  205.5900  208.42  111547742  \n",
       "\n",
       "[100 rows x 10 columns]"
      ]
     },
     "execution_count": 29,
     "metadata": {},
     "output_type": "execute_result"
    }
   ],
   "source": [
    "# Get 1 year's worth of historical data for AAPL\n",
    "df_stock_data =  alpaca.get_barset(\n",
    "    tickers,\n",
    "    timeframe,\n",
    "    start=start_date,\n",
    "    end=end_date\n",
    ").df\n",
    "\n",
    "# Drop the time component of the date\n",
    "df_stock_data.index = df_stock_data.index.date\n",
    "\n",
    "df_stock_data.head(100)"
   ]
  },
  {
   "cell_type": "code",
   "execution_count": 30,
   "metadata": {},
   "outputs": [],
   "source": [
    " # Configuring a Monte Carlo simulation to forecast 30 years cumulative returns\n",
    "# YOUR CODE HERE!\n",
    "# Set number of simulations\n",
    "num_sims = 500\n",
    "\n",
    "# Configure a Monte Carlo simulation to forecast one year daily returns\n",
    "MC= MCSimulation(\n",
    "    portfolio_data = df_stock_data,\n",
    "    weights = [.60,.40],\n",
    "    num_simulation = num_sims,\n",
    "    num_trading_days = 252 * 30\n",
    ")"
   ]
  },
  {
   "cell_type": "code",
   "execution_count": 31,
   "metadata": {},
   "outputs": [
    {
     "name": "stdout",
     "output_type": "stream",
     "text": [
      "Running Monte Carlo simulation number 0.\n",
      "Running Monte Carlo simulation number 10.\n",
      "Running Monte Carlo simulation number 20.\n",
      "Running Monte Carlo simulation number 30.\n",
      "Running Monte Carlo simulation number 40.\n",
      "Running Monte Carlo simulation number 50.\n",
      "Running Monte Carlo simulation number 60.\n",
      "Running Monte Carlo simulation number 70.\n",
      "Running Monte Carlo simulation number 80.\n",
      "Running Monte Carlo simulation number 90.\n",
      "Running Monte Carlo simulation number 100.\n",
      "Running Monte Carlo simulation number 110.\n",
      "Running Monte Carlo simulation number 120.\n",
      "Running Monte Carlo simulation number 130.\n",
      "Running Monte Carlo simulation number 140.\n",
      "Running Monte Carlo simulation number 150.\n",
      "Running Monte Carlo simulation number 160.\n",
      "Running Monte Carlo simulation number 170.\n",
      "Running Monte Carlo simulation number 180.\n",
      "Running Monte Carlo simulation number 190.\n",
      "Running Monte Carlo simulation number 200.\n",
      "Running Monte Carlo simulation number 210.\n",
      "Running Monte Carlo simulation number 220.\n",
      "Running Monte Carlo simulation number 230.\n",
      "Running Monte Carlo simulation number 240.\n",
      "Running Monte Carlo simulation number 250.\n",
      "Running Monte Carlo simulation number 260.\n",
      "Running Monte Carlo simulation number 270.\n",
      "Running Monte Carlo simulation number 280.\n",
      "Running Monte Carlo simulation number 290.\n",
      "Running Monte Carlo simulation number 300.\n",
      "Running Monte Carlo simulation number 310.\n",
      "Running Monte Carlo simulation number 320.\n",
      "Running Monte Carlo simulation number 330.\n",
      "Running Monte Carlo simulation number 340.\n",
      "Running Monte Carlo simulation number 350.\n",
      "Running Monte Carlo simulation number 360.\n",
      "Running Monte Carlo simulation number 370.\n",
      "Running Monte Carlo simulation number 380.\n",
      "Running Monte Carlo simulation number 390.\n",
      "Running Monte Carlo simulation number 400.\n",
      "Running Monte Carlo simulation number 410.\n",
      "Running Monte Carlo simulation number 420.\n",
      "Running Monte Carlo simulation number 430.\n",
      "Running Monte Carlo simulation number 440.\n",
      "Running Monte Carlo simulation number 450.\n",
      "Running Monte Carlo simulation number 460.\n",
      "Running Monte Carlo simulation number 470.\n",
      "Running Monte Carlo simulation number 480.\n",
      "Running Monte Carlo simulation number 490.\n"
     ]
    },
    {
     "data": {
      "text/html": [
       "<div>\n",
       "<style scoped>\n",
       "    .dataframe tbody tr th:only-of-type {\n",
       "        vertical-align: middle;\n",
       "    }\n",
       "\n",
       "    .dataframe tbody tr th {\n",
       "        vertical-align: top;\n",
       "    }\n",
       "\n",
       "    .dataframe thead th {\n",
       "        text-align: right;\n",
       "    }\n",
       "</style>\n",
       "<table border=\"1\" class=\"dataframe\">\n",
       "  <thead>\n",
       "    <tr style=\"text-align: right;\">\n",
       "      <th></th>\n",
       "      <th>0</th>\n",
       "      <th>1</th>\n",
       "      <th>2</th>\n",
       "      <th>3</th>\n",
       "      <th>4</th>\n",
       "      <th>5</th>\n",
       "      <th>6</th>\n",
       "      <th>7</th>\n",
       "      <th>8</th>\n",
       "      <th>9</th>\n",
       "      <th>...</th>\n",
       "      <th>490</th>\n",
       "      <th>491</th>\n",
       "      <th>492</th>\n",
       "      <th>493</th>\n",
       "      <th>494</th>\n",
       "      <th>495</th>\n",
       "      <th>496</th>\n",
       "      <th>497</th>\n",
       "      <th>498</th>\n",
       "      <th>499</th>\n",
       "    </tr>\n",
       "  </thead>\n",
       "  <tbody>\n",
       "    <tr>\n",
       "      <th>0</th>\n",
       "      <td>1.000000</td>\n",
       "      <td>1.000000</td>\n",
       "      <td>1.000000</td>\n",
       "      <td>1.000000</td>\n",
       "      <td>1.000000</td>\n",
       "      <td>1.000000</td>\n",
       "      <td>1.000000</td>\n",
       "      <td>1.000000</td>\n",
       "      <td>1.000000</td>\n",
       "      <td>1.000000</td>\n",
       "      <td>...</td>\n",
       "      <td>1.000000</td>\n",
       "      <td>1.000000</td>\n",
       "      <td>1.000000</td>\n",
       "      <td>1.000000</td>\n",
       "      <td>1.000000</td>\n",
       "      <td>1.000000</td>\n",
       "      <td>1.000000</td>\n",
       "      <td>1.000000</td>\n",
       "      <td>1.000000</td>\n",
       "      <td>1.000000</td>\n",
       "    </tr>\n",
       "    <tr>\n",
       "      <th>1</th>\n",
       "      <td>1.005423</td>\n",
       "      <td>1.004608</td>\n",
       "      <td>1.007031</td>\n",
       "      <td>0.999865</td>\n",
       "      <td>0.997304</td>\n",
       "      <td>0.997445</td>\n",
       "      <td>1.003718</td>\n",
       "      <td>1.004685</td>\n",
       "      <td>1.005109</td>\n",
       "      <td>0.995166</td>\n",
       "      <td>...</td>\n",
       "      <td>1.009441</td>\n",
       "      <td>1.000244</td>\n",
       "      <td>0.996611</td>\n",
       "      <td>0.999766</td>\n",
       "      <td>1.001457</td>\n",
       "      <td>1.002384</td>\n",
       "      <td>1.000306</td>\n",
       "      <td>0.994529</td>\n",
       "      <td>0.999855</td>\n",
       "      <td>0.996530</td>\n",
       "    </tr>\n",
       "    <tr>\n",
       "      <th>2</th>\n",
       "      <td>1.011225</td>\n",
       "      <td>0.997658</td>\n",
       "      <td>1.009817</td>\n",
       "      <td>0.998515</td>\n",
       "      <td>1.003141</td>\n",
       "      <td>0.989745</td>\n",
       "      <td>1.007625</td>\n",
       "      <td>0.996861</td>\n",
       "      <td>0.998996</td>\n",
       "      <td>0.993915</td>\n",
       "      <td>...</td>\n",
       "      <td>0.996040</td>\n",
       "      <td>0.998266</td>\n",
       "      <td>1.003092</td>\n",
       "      <td>0.996836</td>\n",
       "      <td>0.998497</td>\n",
       "      <td>1.003938</td>\n",
       "      <td>1.001660</td>\n",
       "      <td>0.993491</td>\n",
       "      <td>0.996379</td>\n",
       "      <td>1.000807</td>\n",
       "    </tr>\n",
       "    <tr>\n",
       "      <th>3</th>\n",
       "      <td>1.003664</td>\n",
       "      <td>0.999944</td>\n",
       "      <td>1.009886</td>\n",
       "      <td>1.004293</td>\n",
       "      <td>1.004666</td>\n",
       "      <td>0.992260</td>\n",
       "      <td>1.007380</td>\n",
       "      <td>0.992749</td>\n",
       "      <td>0.994248</td>\n",
       "      <td>0.994310</td>\n",
       "      <td>...</td>\n",
       "      <td>0.992849</td>\n",
       "      <td>1.001705</td>\n",
       "      <td>1.004348</td>\n",
       "      <td>0.998526</td>\n",
       "      <td>1.001533</td>\n",
       "      <td>0.998948</td>\n",
       "      <td>1.005975</td>\n",
       "      <td>0.989077</td>\n",
       "      <td>0.995804</td>\n",
       "      <td>0.995424</td>\n",
       "    </tr>\n",
       "    <tr>\n",
       "      <th>4</th>\n",
       "      <td>1.004526</td>\n",
       "      <td>0.996406</td>\n",
       "      <td>1.006855</td>\n",
       "      <td>1.009878</td>\n",
       "      <td>1.004714</td>\n",
       "      <td>0.999785</td>\n",
       "      <td>1.011395</td>\n",
       "      <td>0.993673</td>\n",
       "      <td>1.000747</td>\n",
       "      <td>0.999008</td>\n",
       "      <td>...</td>\n",
       "      <td>0.992286</td>\n",
       "      <td>0.999106</td>\n",
       "      <td>1.010582</td>\n",
       "      <td>0.995556</td>\n",
       "      <td>0.998316</td>\n",
       "      <td>1.003631</td>\n",
       "      <td>1.003960</td>\n",
       "      <td>0.990786</td>\n",
       "      <td>1.002501</td>\n",
       "      <td>0.993511</td>\n",
       "    </tr>\n",
       "    <tr>\n",
       "      <th>...</th>\n",
       "      <td>...</td>\n",
       "      <td>...</td>\n",
       "      <td>...</td>\n",
       "      <td>...</td>\n",
       "      <td>...</td>\n",
       "      <td>...</td>\n",
       "      <td>...</td>\n",
       "      <td>...</td>\n",
       "      <td>...</td>\n",
       "      <td>...</td>\n",
       "      <td>...</td>\n",
       "      <td>...</td>\n",
       "      <td>...</td>\n",
       "      <td>...</td>\n",
       "      <td>...</td>\n",
       "      <td>...</td>\n",
       "      <td>...</td>\n",
       "      <td>...</td>\n",
       "      <td>...</td>\n",
       "      <td>...</td>\n",
       "      <td>...</td>\n",
       "    </tr>\n",
       "    <tr>\n",
       "      <th>7556</th>\n",
       "      <td>14.252235</td>\n",
       "      <td>2.687262</td>\n",
       "      <td>7.201324</td>\n",
       "      <td>9.728324</td>\n",
       "      <td>4.195751</td>\n",
       "      <td>6.120908</td>\n",
       "      <td>11.166959</td>\n",
       "      <td>6.594518</td>\n",
       "      <td>4.702915</td>\n",
       "      <td>13.383762</td>\n",
       "      <td>...</td>\n",
       "      <td>5.449779</td>\n",
       "      <td>7.244289</td>\n",
       "      <td>17.596888</td>\n",
       "      <td>6.784954</td>\n",
       "      <td>7.120054</td>\n",
       "      <td>10.794537</td>\n",
       "      <td>5.519406</td>\n",
       "      <td>10.028650</td>\n",
       "      <td>7.283614</td>\n",
       "      <td>20.215418</td>\n",
       "    </tr>\n",
       "    <tr>\n",
       "      <th>7557</th>\n",
       "      <td>14.327970</td>\n",
       "      <td>2.682018</td>\n",
       "      <td>7.242387</td>\n",
       "      <td>9.775061</td>\n",
       "      <td>4.196072</td>\n",
       "      <td>6.128246</td>\n",
       "      <td>11.231873</td>\n",
       "      <td>6.557641</td>\n",
       "      <td>4.680379</td>\n",
       "      <td>13.398819</td>\n",
       "      <td>...</td>\n",
       "      <td>5.470879</td>\n",
       "      <td>7.219734</td>\n",
       "      <td>17.605265</td>\n",
       "      <td>6.843587</td>\n",
       "      <td>7.113198</td>\n",
       "      <td>10.788125</td>\n",
       "      <td>5.515015</td>\n",
       "      <td>10.062151</td>\n",
       "      <td>7.304481</td>\n",
       "      <td>20.189305</td>\n",
       "    </tr>\n",
       "    <tr>\n",
       "      <th>7558</th>\n",
       "      <td>14.376586</td>\n",
       "      <td>2.673926</td>\n",
       "      <td>7.229354</td>\n",
       "      <td>9.698526</td>\n",
       "      <td>4.154049</td>\n",
       "      <td>6.164024</td>\n",
       "      <td>11.241847</td>\n",
       "      <td>6.578402</td>\n",
       "      <td>4.671970</td>\n",
       "      <td>13.406168</td>\n",
       "      <td>...</td>\n",
       "      <td>5.441704</td>\n",
       "      <td>7.228982</td>\n",
       "      <td>17.528250</td>\n",
       "      <td>6.835743</td>\n",
       "      <td>7.166907</td>\n",
       "      <td>10.854079</td>\n",
       "      <td>5.471539</td>\n",
       "      <td>10.046254</td>\n",
       "      <td>7.245974</td>\n",
       "      <td>20.207175</td>\n",
       "    </tr>\n",
       "    <tr>\n",
       "      <th>7559</th>\n",
       "      <td>14.203913</td>\n",
       "      <td>2.670018</td>\n",
       "      <td>7.215329</td>\n",
       "      <td>9.702350</td>\n",
       "      <td>4.190942</td>\n",
       "      <td>6.193080</td>\n",
       "      <td>11.235982</td>\n",
       "      <td>6.578433</td>\n",
       "      <td>4.687611</td>\n",
       "      <td>13.321625</td>\n",
       "      <td>...</td>\n",
       "      <td>5.456387</td>\n",
       "      <td>7.233227</td>\n",
       "      <td>17.609492</td>\n",
       "      <td>6.813410</td>\n",
       "      <td>7.196799</td>\n",
       "      <td>10.891022</td>\n",
       "      <td>5.414392</td>\n",
       "      <td>10.025293</td>\n",
       "      <td>7.246934</td>\n",
       "      <td>20.245029</td>\n",
       "    </tr>\n",
       "    <tr>\n",
       "      <th>7560</th>\n",
       "      <td>14.105129</td>\n",
       "      <td>2.678315</td>\n",
       "      <td>7.229274</td>\n",
       "      <td>9.681041</td>\n",
       "      <td>4.206824</td>\n",
       "      <td>6.200037</td>\n",
       "      <td>11.218155</td>\n",
       "      <td>6.580068</td>\n",
       "      <td>4.650869</td>\n",
       "      <td>13.273551</td>\n",
       "      <td>...</td>\n",
       "      <td>5.464942</td>\n",
       "      <td>7.221354</td>\n",
       "      <td>17.661466</td>\n",
       "      <td>6.887569</td>\n",
       "      <td>7.234116</td>\n",
       "      <td>10.922540</td>\n",
       "      <td>5.382538</td>\n",
       "      <td>10.030316</td>\n",
       "      <td>7.301744</td>\n",
       "      <td>20.142974</td>\n",
       "    </tr>\n",
       "  </tbody>\n",
       "</table>\n",
       "<p>7561 rows × 500 columns</p>\n",
       "</div>"
      ],
      "text/plain": [
       "            0         1         2         3         4         5          6    \\\n",
       "0      1.000000  1.000000  1.000000  1.000000  1.000000  1.000000   1.000000   \n",
       "1      1.005423  1.004608  1.007031  0.999865  0.997304  0.997445   1.003718   \n",
       "2      1.011225  0.997658  1.009817  0.998515  1.003141  0.989745   1.007625   \n",
       "3      1.003664  0.999944  1.009886  1.004293  1.004666  0.992260   1.007380   \n",
       "4      1.004526  0.996406  1.006855  1.009878  1.004714  0.999785   1.011395   \n",
       "...         ...       ...       ...       ...       ...       ...        ...   \n",
       "7556  14.252235  2.687262  7.201324  9.728324  4.195751  6.120908  11.166959   \n",
       "7557  14.327970  2.682018  7.242387  9.775061  4.196072  6.128246  11.231873   \n",
       "7558  14.376586  2.673926  7.229354  9.698526  4.154049  6.164024  11.241847   \n",
       "7559  14.203913  2.670018  7.215329  9.702350  4.190942  6.193080  11.235982   \n",
       "7560  14.105129  2.678315  7.229274  9.681041  4.206824  6.200037  11.218155   \n",
       "\n",
       "           7         8          9    ...       490       491        492  \\\n",
       "0     1.000000  1.000000   1.000000  ...  1.000000  1.000000   1.000000   \n",
       "1     1.004685  1.005109   0.995166  ...  1.009441  1.000244   0.996611   \n",
       "2     0.996861  0.998996   0.993915  ...  0.996040  0.998266   1.003092   \n",
       "3     0.992749  0.994248   0.994310  ...  0.992849  1.001705   1.004348   \n",
       "4     0.993673  1.000747   0.999008  ...  0.992286  0.999106   1.010582   \n",
       "...        ...       ...        ...  ...       ...       ...        ...   \n",
       "7556  6.594518  4.702915  13.383762  ...  5.449779  7.244289  17.596888   \n",
       "7557  6.557641  4.680379  13.398819  ...  5.470879  7.219734  17.605265   \n",
       "7558  6.578402  4.671970  13.406168  ...  5.441704  7.228982  17.528250   \n",
       "7559  6.578433  4.687611  13.321625  ...  5.456387  7.233227  17.609492   \n",
       "7560  6.580068  4.650869  13.273551  ...  5.464942  7.221354  17.661466   \n",
       "\n",
       "           493       494        495       496        497       498        499  \n",
       "0     1.000000  1.000000   1.000000  1.000000   1.000000  1.000000   1.000000  \n",
       "1     0.999766  1.001457   1.002384  1.000306   0.994529  0.999855   0.996530  \n",
       "2     0.996836  0.998497   1.003938  1.001660   0.993491  0.996379   1.000807  \n",
       "3     0.998526  1.001533   0.998948  1.005975   0.989077  0.995804   0.995424  \n",
       "4     0.995556  0.998316   1.003631  1.003960   0.990786  1.002501   0.993511  \n",
       "...        ...       ...        ...       ...        ...       ...        ...  \n",
       "7556  6.784954  7.120054  10.794537  5.519406  10.028650  7.283614  20.215418  \n",
       "7557  6.843587  7.113198  10.788125  5.515015  10.062151  7.304481  20.189305  \n",
       "7558  6.835743  7.166907  10.854079  5.471539  10.046254  7.245974  20.207175  \n",
       "7559  6.813410  7.196799  10.891022  5.414392  10.025293  7.246934  20.245029  \n",
       "7560  6.887569  7.234116  10.922540  5.382538  10.030316  7.301744  20.142974  \n",
       "\n",
       "[7561 rows x 500 columns]"
      ]
     },
     "execution_count": 31,
     "metadata": {},
     "output_type": "execute_result"
    }
   ],
   "source": [
    "# Run Monte Carlo simulations to forecast one year daily returns\n",
    "MC.calc_cumulative_return()"
   ]
  },
  {
   "cell_type": "code",
   "execution_count": 32,
   "metadata": {},
   "outputs": [
    {
     "data": {
      "image/png": "[encoded data removed]",
      "text/plain": [
       "<Figure size 432x288 with 1 Axes>"
      ]
     },
     "metadata": {
      "needs_background": "light"
     },
     "output_type": "display_data"
    }
   ],
   "source": [
    "### Plot the Simulated Outcomes for the Next Year (252 Traiding Days\n",
    "line_plot = MC.plot_simulation()"
   ]
  },
  {
   "cell_type": "code",
   "execution_count": 33,
   "metadata": {},
   "outputs": [
    {
     "data": {
      "image/png": "[encoded data removed]",
      "text/plain": [
       "<Figure size 432x288 with 1 Axes>"
      ]
     },
     "metadata": {
      "needs_background": "light"
     },
     "output_type": "display_data"
    }
   ],
   "source": [
    "# Plot probability distribution and confidence intervals\n",
    "dist_plot = MC.plot_distribution()"
   ]
  },
  {
   "cell_type": "markdown",
   "metadata": {},
   "source": [
    "#  Retirement Analysis"
   ]
  },
  {
   "cell_type": "code",
   "execution_count": 34,
   "metadata": {},
   "outputs": [
    {
     "name": "stdout",
     "output_type": "stream",
     "text": [
      "count           500.000000\n",
      "mean              9.182508\n",
      "std               4.495734\n",
      "min               1.779519\n",
      "25%               6.164200\n",
      "50%               8.462262\n",
      "75%              11.118646\n",
      "max              38.661539\n",
      "95% CI Lower      3.747874\n",
      "95% CI Upper     19.812529\n",
      "Name: 7560, dtype: float64\n"
     ]
    }
   ],
   "source": [
    "# Fetch summary statistics from the Monte Carlo simulation results\n",
    "# Fetch summary statistics from the Monte Carlo simulation results\n",
    "AGG_SPY_tbl = MC.summarize_cumulative_return()\n",
    "\n",
    "# Print summary statistics\n",
    "print(AGG_SPY_tbl)"
   ]
  },
  {
   "cell_type": "markdown",
   "metadata": {},
   "source": [
    "###  Calculate the expected portfolio return at the 95% lower and upper confidence intervals based on a $20,000 initial investment."
   ]
  },
  {
   "cell_type": "code",
   "execution_count": 35,
   "metadata": {},
   "outputs": [
    {
     "name": "stdout",
     "output_type": "stream",
     "text": [
      "There is a 95% chance that an initial investment of $20000 in the portfolio over the next 30 years will end within in the range of $74957.49 and $396250.57\n"
     ]
    }
   ],
   "source": [
    " # Set initial investment\n",
    "initial_investment = 20000\n",
    "\n",
    "\n",
    "# Use the lower and upper `95%` confidence intervals to calculate the range of the possible outcomes of our $20,000 investments\n",
    "AGG_SPY_ci_lower = round(AGG_SPY_tbl[8]*initial_investment,2)\n",
    "AGG_SPY_ci_upper = round(AGG_SPY_tbl[9]*initial_investment,2)\n",
    "\n",
    "# Print results\n",
    "print(f\"There is a 95% chance that an initial investment of ${initial_investment} in the portfolio\"\n",
    "      f\" over the next 30 years will end within in the range of\"\n",
    "      f\" ${AGG_SPY_ci_lower} and ${AGG_SPY_ci_upper }\")"
   ]
  },
  {
   "cell_type": "markdown",
   "metadata": {},
   "source": [
    "### Calculate the expected portfolio return at the 95% lower and upper confidence intervals based on a 50% increase in the initial investment."
   ]
  },
  {
   "cell_type": "code",
   "execution_count": 36,
   "metadata": {},
   "outputs": [
    {
     "name": "stdout",
     "output_type": "stream",
     "text": [
      "There is a 95% chance that an initial investment of $30000.0 in the portfolio over the next 30 years will end within in the range of $112436.23 and $594375.86\n"
     ]
    }
   ],
   "source": [
    "# Set initial investment\n",
    "initial_investment = 20000 * 1.5\n",
    "\n",
    "# Use the lower and upper `95%` confidence intervals to calculate the range of the possible outcomes of our $20,000 investments\n",
    "AGG_SPY_ci_lower = round(AGG_SPY_tbl[8]*initial_investment,2)\n",
    "AGG_SPY_ci_upper = round(AGG_SPY_tbl[9]*initial_investment,2)\n",
    "\n",
    "# Print results\n",
    "print(f\"There is a 95% chance that an initial investment of ${initial_investment} in the portfolio\"\n",
    "      f\" over the next 30 years will end within in the range of\"\n",
    "      f\" ${AGG_SPY_ci_lower} and ${AGG_SPY_ci_upper }\")"
   ]
  },
  {
   "cell_type": "code",
   "execution_count": null,
   "metadata": {},
   "outputs": [],
   "source": []
  },
  {
   "cell_type": "code",
   "execution_count": null,
   "metadata": {},
   "outputs": [],
   "source": []
  }
 ],
 "metadata": {
  "kernelspec": {
   "display_name": "Python 3",
   "language": "python",
   "name": "python3"
  },
  "language_info": {
   "codemirror_mode": {
    "name": "ipython",
    "version": 3
   },
   "file_extension": ".py",
   "mimetype": "text/x-python",
   "name": "python",
   "nbconvert_exporter": "python",
   "pygments_lexer": "ipython3",
   "version": "3.8.5"
  }
 },
 "nbformat": 4,
 "nbformat_minor": 4
}
