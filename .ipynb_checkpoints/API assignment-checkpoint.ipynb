{
 "cells": [
  {
   "cell_type": "markdown",
   "metadata": {},
   "source": [
    "#  Unit 5 - Financial Planning"
   ]
  },
  {
   "cell_type": "code",
   "execution_count": 133,
   "metadata": {},
   "outputs": [],
   "source": [
    "# Initial imports\n",
    "import os\n",
    "import requests\n",
    "import json\n",
    "import pandas as pd\n",
    "from dotenv import load_dotenv\n",
    "import alpaca_trade_api as tradeapi\n",
    "from MCForecastTools import MCSimulation"
   ]
  },
  {
   "cell_type": "code",
   "execution_count": 134,
   "metadata": {},
   "outputs": [
    {
     "data": {
      "text/plain": [
       "True"
      ]
     },
     "execution_count": 134,
     "metadata": {},
     "output_type": "execute_result"
    }
   ],
   "source": [
    "# Load .env environment variables\n",
    "load_dotenv(\"envi.env\")"
   ]
  },
  {
   "cell_type": "markdown",
   "metadata": {},
   "source": [
    "#  Part 1 - Personal Finance Planner"
   ]
  },
  {
   "cell_type": "markdown",
   "metadata": {},
   "source": [
    "## Collect Crypto Prices Using the requests Library"
   ]
  },
  {
   "cell_type": "code",
   "execution_count": 135,
   "metadata": {},
   "outputs": [],
   "source": [
    " # Set current amount of crypto assets\n",
    "my_btc = 1.2\n",
    "my_eth = 5.3"
   ]
  },
  {
   "cell_type": "code",
   "execution_count": 136,
   "metadata": {},
   "outputs": [],
   "source": [
    " # Crypto API URLs\n",
    "btc_url = \"https://api.alternative.me/v2/ticker/Bitcoin/?convert=CAD\"\n",
    "eth_url = \"https://api.alternative.me/v2/ticker/Ethereum/?convert=CAD\""
   ]
  },
  {
   "cell_type": "code",
   "execution_count": 137,
   "metadata": {},
   "outputs": [
    {
     "name": "stdout",
     "output_type": "stream",
     "text": [
      "{\n",
      "    \"data\": {\n",
      "        \"1\": {\n",
      "            \"id\": 1,\n",
      "            \"name\": \"Bitcoin\",\n",
      "            \"symbol\": \"BTC\",\n",
      "            \"website_slug\": \"bitcoin\",\n",
      "            \"rank\": 1,\n",
      "            \"circulating_supply\": 18612687,\n",
      "            \"total_supply\": 18612687,\n",
      "            \"max_supply\": 21000000,\n",
      "            \"quotes\": {\n",
      "                \"USD\": {\n",
      "                    \"price\": 31338.0,\n",
      "                    \"volume_24h\": 54076739783,\n",
      "                    \"market_cap\": 584190632622,\n",
      "                    \"percentage_change_1h\": 0.674730924732165,\n",
      "                    \"percentage_change_24h\": -0.522067027797949,\n",
      "                    \"percentage_change_7d\": -11.9407720119865,\n",
      "                    \"percent_change_1h\": 0.674730924732165,\n",
      "                    \"percent_change_24h\": -0.522067027797949,\n",
      "                    \"percent_change_7d\": -11.9407720119865\n",
      "                },\n",
      "                \"CAD\": {\n",
      "                    \"price\": 40278.7314,\n",
      "                    \"volume_24h\": 69504833643.0899,\n",
      "                    \"market_cap\": 750860220109.056,\n",
      "                    \"percent_change_1h\": 0.674730924732165,\n",
      "                    \"percent_change_24h\": -0.522067027797949,\n",
      "                    \"percent_change_7d\": -11.9407720119865\n",
      "                }\n",
      "            },\n",
      "            \"last_updated\": 1611833628\n",
      "        }\n",
      "    },\n",
      "    \"metadata\": {\n",
      "        \"timestamp\": 1611833628,\n",
      "        \"num_cryptocurrencies\": 1371,\n",
      "        \"error\": null\n",
      "    }\n",
      "}\n"
     ]
    }
   ],
   "source": [
    "# Fetch current BTC price\n",
    "response_data_btc = requests.get(btc_url).json()\n",
    "print(json.dumps(response_data_btc, indent=4))"
   ]
  },
  {
   "cell_type": "code",
   "execution_count": 138,
   "metadata": {},
   "outputs": [
    {
     "name": "stdout",
     "output_type": "stream",
     "text": [
      "31338.0\n",
      "40278.7314\n",
      "71616\n"
     ]
    }
   ],
   "source": [
    " # Fetch current BTC price in USD and CAD\n",
    "    \n",
    "### Currency = USD\n",
    "usd_price_btc =response_data_btc['data']['1']['quotes']['USD']['price']\n",
    "print(usd_price_btc)\n",
    "\n",
    "### Currency = CAD\n",
    "cad_price_btc =response_data_btc['data']['1']['quotes']['CAD']['price']\n",
    "print(cad_price_btc)"
   ]
  },
  {
   "cell_type": "code",
   "execution_count": 139,
   "metadata": {},
   "outputs": [
    {
     "name": "stdout",
     "output_type": "stream",
     "text": [
      "{\n",
      "    \"data\": {\n",
      "        \"1027\": {\n",
      "            \"id\": 1027,\n",
      "            \"name\": \"Ethereum\",\n",
      "            \"symbol\": \"ETH\",\n",
      "            \"website_slug\": \"ethereum\",\n",
      "            \"rank\": 2,\n",
      "            \"circulating_supply\": 114436661,\n",
      "            \"total_supply\": 114436661,\n",
      "            \"max_supply\": 0,\n",
      "            \"quotes\": {\n",
      "                \"USD\": {\n",
      "                    \"price\": 1295.48,\n",
      "                    \"volume_24h\": 38078048557,\n",
      "                    \"market_cap\": 148482450004,\n",
      "                    \"percentage_change_1h\": 0.803558093641807,\n",
      "                    \"percentage_change_24h\": 0.301537799109079,\n",
      "                    \"percentage_change_7d\": -6.52095145968005,\n",
      "                    \"percent_change_1h\": 0.803558093641807,\n",
      "                    \"percent_change_24h\": 0.301537799109079,\n",
      "                    \"percent_change_7d\": -6.52095145968005\n",
      "                },\n",
      "                \"CAD\": {\n",
      "                    \"price\": 1665.080444,\n",
      "                    \"volume_24h\": 48941715810.3121,\n",
      "                    \"market_cap\": 190844492990.141,\n",
      "                    \"percent_change_1h\": 0.803558093641807,\n",
      "                    \"percent_change_24h\": 0.301537799109079,\n",
      "                    \"percent_change_7d\": -6.52095145968005\n",
      "                }\n",
      "            },\n",
      "            \"last_updated\": 1611833620\n",
      "        }\n",
      "    },\n",
      "    \"metadata\": {\n",
      "        \"timestamp\": 1611833620,\n",
      "        \"num_cryptocurrencies\": 1371,\n",
      "        \"error\": null\n",
      "    }\n",
      "}\n"
     ]
    }
   ],
   "source": [
    "# Fetch current ETH price\n",
    "# YOUR CODE HERE!]\n",
    "# getting the content of eth\n",
    "response_data_eth = requests.get(eth_url).json()\n",
    "print(json.dumps(response_data_eth, indent=4))"
   ]
  },
  {
   "cell_type": "code",
   "execution_count": 140,
   "metadata": {},
   "outputs": [
    {
     "name": "stdout",
     "output_type": "stream",
     "text": [
      "1295.48\n",
      "1665.080444\n",
      "2960\n"
     ]
    }
   ],
   "source": [
    " # Fetch current eth price in USD & CAD\n",
    "# Currency = USD\n",
    "usd_price_eth =response_data_eth['data']['1027']['quotes']['USD']['price']\n",
    "print(usd_price_eth)\n",
    "\n",
    "# Currency = CAD\n",
    "cad_price_eth =response_data_eth['data']['1027']['quotes']['CAD']['price']\n",
    "print(cad_price_eth)\n",
    "\n"
   ]
  },
  {
   "cell_type": "code",
   "execution_count": 141,
   "metadata": {},
   "outputs": [
    {
     "name": "stdout",
     "output_type": "stream",
     "text": [
      "37605.6\n",
      "6866.044\n"
     ]
    },
    {
     "data": {
      "text/plain": [
       "44471.644"
      ]
     },
     "execution_count": 141,
     "metadata": {},
     "output_type": "execute_result"
    }
   ],
   "source": [
    "# Compute current value of my crpto\n",
    "my_btc_value = float(usd_price_btc )  * float(my_btc)\n",
    "print(my_btc_value)\n",
    "my_eth_value = float(usd_price_eth) * float(my_eth)\n",
    "print(my_eth_value)\n",
    "\n",
    "total_crypto = float(my_btc_value) + float(my_eth_value)\n",
    "total_crypto"
   ]
  },
  {
   "cell_type": "code",
   "execution_count": 142,
   "metadata": {},
   "outputs": [
    {
     "name": "stdout",
     "output_type": "stream",
     "text": [
      "The current value of your 1.2 BTC is $37605.60\n",
      "The current value of your 5.3 ETH is $6866.04\n"
     ]
    }
   ],
   "source": [
    "# Print current crypto wallet balance\n",
    "print(f\"The current value of your {my_btc} BTC is ${my_btc_value:0.2f}\")\n",
    "print(f\"The current value of your {my_eth} ETH is ${my_eth_value:0.2f}\")"
   ]
  },
  {
   "cell_type": "markdown",
   "metadata": {},
   "source": [
    "#  Collect Investments Data Using Alpaca: SPY (stocks) and AGG (bonds)"
   ]
  },
  {
   "cell_type": "code",
   "execution_count": 143,
   "metadata": {},
   "outputs": [],
   "source": [
    " # Current amount of shares\n",
    "my_agg = 200\n",
    "my_spy = 50"
   ]
  },
  {
   "cell_type": "code",
   "execution_count": 144,
   "metadata": {},
   "outputs": [
    {
     "data": {
      "text/plain": [
       "str"
      ]
     },
     "execution_count": 144,
     "metadata": {},
     "output_type": "execute_result"
    }
   ],
   "source": [
    "# Set Alpaca API key and secret\n",
    "alpaca_api_key = os.getenv(\"ALPACA_API_KEY\")\n",
    "alpaca_secret_key = os.getenv(\"ALPACA_SECRET_KEY\")\n",
    "api_key = os.getenv(\"QUANDL_API_KEY\")\n",
    "type(alpaca_api_key)"
   ]
  },
  {
   "cell_type": "code",
   "execution_count": 145,
   "metadata": {},
   "outputs": [
    {
     "name": "stdout",
     "output_type": "stream",
     "text": [
      "Alpaca Key type: <class 'str'>\n",
      "Alpaca Secret Key type: <class 'str'>\n"
     ]
    }
   ],
   "source": [
    "# Verify that Alpaca key and secret were correctly loaded\n",
    "print(f\"Alpaca Key type: {type(alpaca_api_key)}\")\n",
    "print(f\"Alpaca Secret Key type: {type(alpaca_secret_key)}\")"
   ]
  },
  {
   "cell_type": "code",
   "execution_count": 146,
   "metadata": {},
   "outputs": [],
   "source": [
    "alpaca  = tradeapi.REST(\n",
    "    alpaca_api_key,\n",
    "    alpaca_secret_key,\n",
    "    api_version = \"v2\"\n",
    ")"
   ]
  },
  {
   "cell_type": "code",
   "execution_count": 147,
   "metadata": {},
   "outputs": [],
   "source": [
    "# Format current date as ISO format\n",
    "today = pd.Timestamp(\"2021-01-27\", tz=\"America/New_York\").isoformat()"
   ]
  },
  {
   "cell_type": "code",
   "execution_count": 148,
   "metadata": {},
   "outputs": [
    {
     "data": {
      "text/html": [
       "<div>\n",
       "<style scoped>\n",
       "    .dataframe tbody tr th:only-of-type {\n",
       "        vertical-align: middle;\n",
       "    }\n",
       "\n",
       "    .dataframe tbody tr th {\n",
       "        vertical-align: top;\n",
       "    }\n",
       "\n",
       "    .dataframe thead th {\n",
       "        text-align: right;\n",
       "    }\n",
       "</style>\n",
       "<table border=\"1\" class=\"dataframe\">\n",
       "  <thead>\n",
       "    <tr style=\"text-align: right;\">\n",
       "      <th></th>\n",
       "      <th>shares</th>\n",
       "    </tr>\n",
       "  </thead>\n",
       "  <tbody>\n",
       "    <tr>\n",
       "      <th>AGG</th>\n",
       "      <td>200</td>\n",
       "    </tr>\n",
       "    <tr>\n",
       "      <th>SPY</th>\n",
       "      <td>50</td>\n",
       "    </tr>\n",
       "  </tbody>\n",
       "</table>\n",
       "</div>"
      ],
      "text/plain": [
       "     shares\n",
       "AGG     200\n",
       "SPY      50"
      ]
     },
     "execution_count": 148,
     "metadata": {},
     "output_type": "execute_result"
    }
   ],
   "source": [
    "# Set current amount of shares data\n",
    "shares_data = {\n",
    "    \"shares\": [my_agg, my_spy]\n",
    "}\n",
    "\n",
    "# Set the tickers\n",
    "tickers = [\"AGG\", \"SPY\"]\n",
    "\n",
    "# Create the shares DataFrame\n",
    "df_shares = pd.DataFrame(shares_data, index=tickers)\n",
    "\n",
    "# Display shares data\n",
    "df_shares"
   ]
  },
  {
   "cell_type": "code",
   "execution_count": 149,
   "metadata": {},
   "outputs": [],
   "source": [
    "# Set timeframe to '1D' for Alpaca API\n",
    "timeframe = \"1D\""
   ]
  },
  {
   "cell_type": "code",
   "execution_count": 150,
   "metadata": {},
   "outputs": [
    {
     "data": {
      "text/html": [
       "<div>\n",
       "<style scoped>\n",
       "    .dataframe tbody tr th:only-of-type {\n",
       "        vertical-align: middle;\n",
       "    }\n",
       "\n",
       "    .dataframe tbody tr th {\n",
       "        vertical-align: top;\n",
       "    }\n",
       "\n",
       "    .dataframe thead tr th {\n",
       "        text-align: left;\n",
       "    }\n",
       "\n",
       "    .dataframe thead tr:last-of-type th {\n",
       "        text-align: right;\n",
       "    }\n",
       "</style>\n",
       "<table border=\"1\" class=\"dataframe\">\n",
       "  <thead>\n",
       "    <tr>\n",
       "      <th></th>\n",
       "      <th colspan=\"5\" halign=\"left\">AGG</th>\n",
       "      <th colspan=\"5\" halign=\"left\">SPY</th>\n",
       "    </tr>\n",
       "    <tr>\n",
       "      <th></th>\n",
       "      <th>open</th>\n",
       "      <th>high</th>\n",
       "      <th>low</th>\n",
       "      <th>close</th>\n",
       "      <th>volume</th>\n",
       "      <th>open</th>\n",
       "      <th>high</th>\n",
       "      <th>low</th>\n",
       "      <th>close</th>\n",
       "      <th>volume</th>\n",
       "    </tr>\n",
       "    <tr>\n",
       "      <th>time</th>\n",
       "      <th></th>\n",
       "      <th></th>\n",
       "      <th></th>\n",
       "      <th></th>\n",
       "      <th></th>\n",
       "      <th></th>\n",
       "      <th></th>\n",
       "      <th></th>\n",
       "      <th></th>\n",
       "      <th></th>\n",
       "    </tr>\n",
       "  </thead>\n",
       "  <tbody>\n",
       "    <tr>\n",
       "      <th>2021-01-27 00:00:00-05:00</th>\n",
       "      <td>117.61</td>\n",
       "      <td>117.67</td>\n",
       "      <td>117.04</td>\n",
       "      <td>117.52</td>\n",
       "      <td>3509666</td>\n",
       "      <td>380.22</td>\n",
       "      <td>380.32</td>\n",
       "      <td>372.01</td>\n",
       "      <td>374.44</td>\n",
       "      <td>99246554</td>\n",
       "    </tr>\n",
       "  </tbody>\n",
       "</table>\n",
       "</div>"
      ],
      "text/plain": [
       "                              AGG                                      SPY  \\\n",
       "                             open    high     low   close   volume    open   \n",
       "time                                                                         \n",
       "2021-01-27 00:00:00-05:00  117.61  117.67  117.04  117.52  3509666  380.22   \n",
       "\n",
       "                                                             \n",
       "                             high     low   close    volume  \n",
       "time                                                         \n",
       "2021-01-27 00:00:00-05:00  380.32  372.01  374.44  99246554  "
      ]
     },
     "execution_count": 150,
     "metadata": {},
     "output_type": "execute_result"
    }
   ],
   "source": [
    "# Get current closing prices for FB and TWTR\n",
    "df_portfolio = alpaca.get_barset(\n",
    "    tickers,\n",
    "    timeframe,\n",
    "    start = today,\n",
    "    end = today\n",
    ").df\n",
    "\n",
    "# Display sample data\n",
    "df_portfolio"
   ]
  },
  {
   "cell_type": "code",
   "execution_count": 151,
   "metadata": {},
   "outputs": [
    {
     "data": {
      "text/html": [
       "<div>\n",
       "<style scoped>\n",
       "    .dataframe tbody tr th:only-of-type {\n",
       "        vertical-align: middle;\n",
       "    }\n",
       "\n",
       "    .dataframe tbody tr th {\n",
       "        vertical-align: top;\n",
       "    }\n",
       "\n",
       "    .dataframe thead th {\n",
       "        text-align: right;\n",
       "    }\n",
       "</style>\n",
       "<table border=\"1\" class=\"dataframe\">\n",
       "  <thead>\n",
       "    <tr style=\"text-align: right;\">\n",
       "      <th></th>\n",
       "      <th>AGG</th>\n",
       "      <th>SPY</th>\n",
       "    </tr>\n",
       "  </thead>\n",
       "  <tbody>\n",
       "    <tr>\n",
       "      <th>2021-01-27</th>\n",
       "      <td>117.52</td>\n",
       "      <td>374.44</td>\n",
       "    </tr>\n",
       "  </tbody>\n",
       "</table>\n",
       "</div>"
      ],
      "text/plain": [
       "               AGG     SPY\n",
       "2021-01-27  117.52  374.44"
      ]
     },
     "execution_count": 151,
     "metadata": {},
     "output_type": "execute_result"
    }
   ],
   "source": [
    "# Create and empty DataFrame for closing prices\n",
    "df_closing_prices = pd.DataFrame()\n",
    "\n",
    "# Fetch the closing prices of FB and TWTR\n",
    "df_closing_prices[\"AGG\"] = df_portfolio[\"AGG\"][\"close\"]\n",
    "df_closing_prices[\"SPY\"] = df_portfolio[\"SPY\"][\"close\"]\n",
    "\n",
    "# Drop the time component of the date\n",
    "df_closing_prices.index = df_closing_prices.index.date\n",
    "\n",
    "# Display sample data\n",
    "df_closing_prices.head(10)"
   ]
  },
  {
   "cell_type": "code",
   "execution_count": 152,
   "metadata": {},
   "outputs": [
    {
     "name": "stdout",
     "output_type": "stream",
     "text": [
      "117.52\n",
      "374.44\n",
      "Current AGG closing price: $117.52\n",
      "Current SPY closing price: $374.44\n"
     ]
    }
   ],
   "source": [
    "# Fetch the current closing prices from the DataFrame into  variables for AGG & SPY\n",
    "agg_close_price = float(df_portfolio[\"AGG\"][\"close\"])\n",
    "spy_close_price = float(df_portfolio[\"SPY\"][\"close\"])\n",
    "print(agg_close_price)\n",
    "print(spy_close_price)\n",
    "# Print AGG and SPY close prices\n",
    "print(f\"Current AGG closing price: ${agg_close_price}\")\n",
    "print(f\"Current SPY closing price: ${spy_close_price}\")"
   ]
  },
  {
   "cell_type": "code",
   "execution_count": 153,
   "metadata": {},
   "outputs": [
    {
     "name": "stdout",
     "output_type": "stream",
     "text": [
      "The current value of the 200 AGG shares is $23504.00\n",
      "The current value of the 50 SPY shares is $18722.00\n"
     ]
    },
    {
     "data": {
      "text/plain": [
       "42226.0"
      ]
     },
     "execution_count": 153,
     "metadata": {},
     "output_type": "execute_result"
    }
   ],
   "source": [
    "# Compute the current value in dollars of the stock portfolio\n",
    "agg_value = agg_close_price * df_shares.loc[\"AGG\"][\"shares\"]\n",
    "spy_value = spy_close_price * df_shares.loc[\"SPY\"][\"shares\"]\n",
    "\n",
    "total_shares = float(agg_value ) + float(spy_value)\n",
    "\n",
    "# Print the current value of the stocks portfolio\n",
    "print(f\"The current value of the {df_shares.loc['AGG']['shares']} AGG shares is ${agg_value:0.2f}\")\n",
    "print(f\"The current value of the {df_shares.loc['SPY']['shares']} SPY shares is ${spy_value:0.2f}\")\n",
    "total_shares"
   ]
  },
  {
   "cell_type": "markdown",
   "metadata": {},
   "source": [
    "#  Savings Health Analysis"
   ]
  },
  {
   "cell_type": "code",
   "execution_count": 154,
   "metadata": {},
   "outputs": [],
   "source": [
    "# Set monthly household income\n",
    "monthly_income = 12000\n"
   ]
  },
  {
   "cell_type": "code",
   "execution_count": 155,
   "metadata": {},
   "outputs": [
    {
     "data": {
      "text/html": [
       "<div>\n",
       "<style scoped>\n",
       "    .dataframe tbody tr th:only-of-type {\n",
       "        vertical-align: middle;\n",
       "    }\n",
       "\n",
       "    .dataframe tbody tr th {\n",
       "        vertical-align: top;\n",
       "    }\n",
       "\n",
       "    .dataframe thead th {\n",
       "        text-align: right;\n",
       "    }\n",
       "</style>\n",
       "<table border=\"1\" class=\"dataframe\">\n",
       "  <thead>\n",
       "    <tr style=\"text-align: right;\">\n",
       "      <th></th>\n",
       "      <th>Amount</th>\n",
       "    </tr>\n",
       "  </thead>\n",
       "  <tbody>\n",
       "    <tr>\n",
       "      <th>CRYPTO</th>\n",
       "      <td>44471.644</td>\n",
       "    </tr>\n",
       "    <tr>\n",
       "      <th>SHARES</th>\n",
       "      <td>42226.000</td>\n",
       "    </tr>\n",
       "  </tbody>\n",
       "</table>\n",
       "</div>"
      ],
      "text/plain": [
       "           Amount\n",
       "CRYPTO  44471.644\n",
       "SHARES  42226.000"
      ]
     },
     "execution_count": 155,
     "metadata": {},
     "output_type": "execute_result"
    }
   ],
   "source": [
    "# Set current amount of shares data\n",
    "savings = {\n",
    "#    \"Amount\": [my_btc_value, agg_value]\n",
    "    \"Amount\": [total_crypto, total_shares]\n",
    "}\n",
    "\n",
    "# Set the tickers\n",
    "tickers = [\"CRYPTO\", \"SHARES\"]\n",
    "\n",
    "# Create the shares DataFrame\n",
    "df_savings = pd.DataFrame(savings, index=tickers)\n",
    "\n",
    "# Display shares data\n",
    "df_savings"
   ]
  },
  {
   "cell_type": "code",
   "execution_count": 156,
   "metadata": {},
   "outputs": [
    {
     "data": {
      "text/plain": [
       "<AxesSubplot:title={'center':'Personal Savings Composition'}, ylabel='Amount'>"
      ]
     },
     "execution_count": 156,
     "metadata": {},
     "output_type": "execute_result"
    },
    {
     "data": {
      "image/png": "[encoded data removed]",
      "text/plain": [
       "<Figure size 432x288 with 1 Axes>"
      ]
     },
     "metadata": {},
     "output_type": "display_data"
    }
   ],
   "source": [
    " # Plot savings pie chart\n",
    "# Create a pie chart to show the proportion of stocks in the portfolio\n",
    "df_savings.plot.pie(y=\"Amount\", x=\"shares\",title=\"Personal Savings Composition\")"
   ]
  },
  {
   "cell_type": "code",
   "execution_count": 157,
   "metadata": {},
   "outputs": [
    {
     "name": "stdout",
     "output_type": "stream",
     "text": [
      "86697.644\n"
     ]
    }
   ],
   "source": [
    "# Set ideal emergency fund\n",
    "emergency_fund = monthly_income * 3\n",
    "\n",
    "# Calculate total amount of savings\n",
    "total_savings = total_crypto + total_shares\n",
    "###total_savings = float(16405.628) + float(40616.500)\n",
    "print(total_savings)\n"
   ]
  },
  {
   "cell_type": "code",
   "execution_count": 158,
   "metadata": {},
   "outputs": [
    {
     "name": "stdout",
     "output_type": "stream",
     "text": [
      "86697.644\n",
      "36000\n",
      "Congratulations! You have enough money in your emergency fund\n"
     ]
    }
   ],
   "source": [
    "# Validate saving health\n",
    "print (total_savings)\n",
    "print(emergency_fund)\n",
    "\n",
    "#If total savings are greater than the emergency fund, display a message congratulating the person for \n",
    "#having enough money in this fund.\n",
    "\n",
    "if total_savings > emergency_fund : \n",
    "    print (\"Congratulations! You have enough money in your emergency fund\")\n",
    "#If total savings are equal to the emergency fund, display a message congratulating the person on reaching \n",
    "# this financial goal.\n",
    "elif total_savings == emergency_fund : \n",
    "    print(\"Congratulations!  you have reached your financial goal\")\n",
    "else :\n",
    "    less_amt = emergency_fund - total_savings\n",
    "    print (f\"You are short of ${less_amt:0.2f} in reaching your savings goals\")\n",
    "    \n"
   ]
  },
  {
   "cell_type": "markdown",
   "metadata": {},
   "source": [
    "#  Part 2 - Retirement Planning"
   ]
  },
  {
   "cell_type": "markdown",
   "metadata": {},
   "source": [
    "## Monte Carlo Simulation"
   ]
  },
  {
   "cell_type": "code",
   "execution_count": 159,
   "metadata": {},
   "outputs": [],
   "source": [
    " # Set start and end dates of five years back from today.\n",
    "# Sample results may vary from the solution based on the time frame chosen\n",
    "start_date = pd.Timestamp('2016-01-26', tz='America/New_York').isoformat()\n",
    "end_date = pd.Timestamp('2021-01-26', tz='America/New_York').isoformat()"
   ]
  },
  {
   "cell_type": "code",
   "execution_count": 160,
   "metadata": {},
   "outputs": [],
   "source": [
    "# Set the tickers\n",
    "tickers = [\"AGG\", \"SPY\"]"
   ]
  },
  {
   "cell_type": "code",
   "execution_count": 161,
   "metadata": {},
   "outputs": [
    {
     "data": {
      "text/html": [
       "<div>\n",
       "<style scoped>\n",
       "    .dataframe tbody tr th:only-of-type {\n",
       "        vertical-align: middle;\n",
       "    }\n",
       "\n",
       "    .dataframe tbody tr th {\n",
       "        vertical-align: top;\n",
       "    }\n",
       "\n",
       "    .dataframe thead tr th {\n",
       "        text-align: left;\n",
       "    }\n",
       "</style>\n",
       "<table border=\"1\" class=\"dataframe\">\n",
       "  <thead>\n",
       "    <tr>\n",
       "      <th></th>\n",
       "      <th colspan=\"5\" halign=\"left\">AGG</th>\n",
       "      <th colspan=\"5\" halign=\"left\">SPY</th>\n",
       "    </tr>\n",
       "    <tr>\n",
       "      <th></th>\n",
       "      <th>open</th>\n",
       "      <th>high</th>\n",
       "      <th>low</th>\n",
       "      <th>close</th>\n",
       "      <th>volume</th>\n",
       "      <th>open</th>\n",
       "      <th>high</th>\n",
       "      <th>low</th>\n",
       "      <th>close</th>\n",
       "      <th>volume</th>\n",
       "    </tr>\n",
       "  </thead>\n",
       "  <tbody>\n",
       "    <tr>\n",
       "      <th>2016-01-26</th>\n",
       "      <td>108.90</td>\n",
       "      <td>108.9950</td>\n",
       "      <td>108.7699</td>\n",
       "      <td>108.900</td>\n",
       "      <td>2023631.0</td>\n",
       "      <td>188.42</td>\n",
       "      <td>190.53</td>\n",
       "      <td>188.0200</td>\n",
       "      <td>190.18</td>\n",
       "      <td>115312517</td>\n",
       "    </tr>\n",
       "    <tr>\n",
       "      <th>2016-01-27</th>\n",
       "      <td>108.91</td>\n",
       "      <td>109.0100</td>\n",
       "      <td>108.7200</td>\n",
       "      <td>108.950</td>\n",
       "      <td>1531148.0</td>\n",
       "      <td>189.58</td>\n",
       "      <td>191.56</td>\n",
       "      <td>187.0600</td>\n",
       "      <td>188.12</td>\n",
       "      <td>157060622</td>\n",
       "    </tr>\n",
       "    <tr>\n",
       "      <th>2016-01-28</th>\n",
       "      <td>108.99</td>\n",
       "      <td>109.0988</td>\n",
       "      <td>108.8201</td>\n",
       "      <td>109.040</td>\n",
       "      <td>2146566.0</td>\n",
       "      <td>189.96</td>\n",
       "      <td>190.20</td>\n",
       "      <td>187.1600</td>\n",
       "      <td>189.14</td>\n",
       "      <td>118949268</td>\n",
       "    </tr>\n",
       "    <tr>\n",
       "      <th>2016-01-29</th>\n",
       "      <td>109.41</td>\n",
       "      <td>109.4800</td>\n",
       "      <td>109.2500</td>\n",
       "      <td>109.320</td>\n",
       "      <td>7404827.0</td>\n",
       "      <td>190.02</td>\n",
       "      <td>193.75</td>\n",
       "      <td>189.8800</td>\n",
       "      <td>193.69</td>\n",
       "      <td>145410523</td>\n",
       "    </tr>\n",
       "    <tr>\n",
       "      <th>2016-02-01</th>\n",
       "      <td>109.10</td>\n",
       "      <td>109.2500</td>\n",
       "      <td>108.8415</td>\n",
       "      <td>108.970</td>\n",
       "      <td>4186126.0</td>\n",
       "      <td>192.53</td>\n",
       "      <td>194.58</td>\n",
       "      <td>191.8400</td>\n",
       "      <td>193.69</td>\n",
       "      <td>98369142</td>\n",
       "    </tr>\n",
       "    <tr>\n",
       "      <th>...</th>\n",
       "      <td>...</td>\n",
       "      <td>...</td>\n",
       "      <td>...</td>\n",
       "      <td>...</td>\n",
       "      <td>...</td>\n",
       "      <td>...</td>\n",
       "      <td>...</td>\n",
       "      <td>...</td>\n",
       "      <td>...</td>\n",
       "      <td>...</td>\n",
       "    </tr>\n",
       "    <tr>\n",
       "      <th>2016-06-10</th>\n",
       "      <td>111.54</td>\n",
       "      <td>111.6575</td>\n",
       "      <td>111.4500</td>\n",
       "      <td>111.505</td>\n",
       "      <td>1205373.0</td>\n",
       "      <td>210.46</td>\n",
       "      <td>210.86</td>\n",
       "      <td>209.4300</td>\n",
       "      <td>210.06</td>\n",
       "      <td>80491207</td>\n",
       "    </tr>\n",
       "    <tr>\n",
       "      <th>2016-06-13</th>\n",
       "      <td>111.57</td>\n",
       "      <td>111.6700</td>\n",
       "      <td>111.5300</td>\n",
       "      <td>111.610</td>\n",
       "      <td>1521542.0</td>\n",
       "      <td>209.36</td>\n",
       "      <td>210.37</td>\n",
       "      <td>208.3500</td>\n",
       "      <td>208.44</td>\n",
       "      <td>82156781</td>\n",
       "    </tr>\n",
       "    <tr>\n",
       "      <th>2016-06-14</th>\n",
       "      <td>111.68</td>\n",
       "      <td>111.7300</td>\n",
       "      <td>111.5500</td>\n",
       "      <td>111.555</td>\n",
       "      <td>1695590.0</td>\n",
       "      <td>208.00</td>\n",
       "      <td>208.74</td>\n",
       "      <td>206.9199</td>\n",
       "      <td>208.08</td>\n",
       "      <td>102129228</td>\n",
       "    </tr>\n",
       "    <tr>\n",
       "      <th>2016-06-15</th>\n",
       "      <td>111.67</td>\n",
       "      <td>111.9300</td>\n",
       "      <td>111.6400</td>\n",
       "      <td>111.800</td>\n",
       "      <td>1556713.0</td>\n",
       "      <td>208.54</td>\n",
       "      <td>209.36</td>\n",
       "      <td>207.5300</td>\n",
       "      <td>207.75</td>\n",
       "      <td>82945507</td>\n",
       "    </tr>\n",
       "    <tr>\n",
       "      <th>2016-06-16</th>\n",
       "      <td>111.92</td>\n",
       "      <td>112.0699</td>\n",
       "      <td>111.7800</td>\n",
       "      <td>111.860</td>\n",
       "      <td>2314934.0</td>\n",
       "      <td>206.73</td>\n",
       "      <td>208.57</td>\n",
       "      <td>205.5900</td>\n",
       "      <td>208.42</td>\n",
       "      <td>111547742</td>\n",
       "    </tr>\n",
       "  </tbody>\n",
       "</table>\n",
       "<p>100 rows × 10 columns</p>\n",
       "</div>"
      ],
      "text/plain": [
       "               AGG                                             SPY          \\\n",
       "              open      high       low    close     volume    open    high   \n",
       "2016-01-26  108.90  108.9950  108.7699  108.900  2023631.0  188.42  190.53   \n",
       "2016-01-27  108.91  109.0100  108.7200  108.950  1531148.0  189.58  191.56   \n",
       "2016-01-28  108.99  109.0988  108.8201  109.040  2146566.0  189.96  190.20   \n",
       "2016-01-29  109.41  109.4800  109.2500  109.320  7404827.0  190.02  193.75   \n",
       "2016-02-01  109.10  109.2500  108.8415  108.970  4186126.0  192.53  194.58   \n",
       "...            ...       ...       ...      ...        ...     ...     ...   \n",
       "2016-06-10  111.54  111.6575  111.4500  111.505  1205373.0  210.46  210.86   \n",
       "2016-06-13  111.57  111.6700  111.5300  111.610  1521542.0  209.36  210.37   \n",
       "2016-06-14  111.68  111.7300  111.5500  111.555  1695590.0  208.00  208.74   \n",
       "2016-06-15  111.67  111.9300  111.6400  111.800  1556713.0  208.54  209.36   \n",
       "2016-06-16  111.92  112.0699  111.7800  111.860  2314934.0  206.73  208.57   \n",
       "\n",
       "                                         \n",
       "                 low   close     volume  \n",
       "2016-01-26  188.0200  190.18  115312517  \n",
       "2016-01-27  187.0600  188.12  157060622  \n",
       "2016-01-28  187.1600  189.14  118949268  \n",
       "2016-01-29  189.8800  193.69  145410523  \n",
       "2016-02-01  191.8400  193.69   98369142  \n",
       "...              ...     ...        ...  \n",
       "2016-06-10  209.4300  210.06   80491207  \n",
       "2016-06-13  208.3500  208.44   82156781  \n",
       "2016-06-14  206.9199  208.08  102129228  \n",
       "2016-06-15  207.5300  207.75   82945507  \n",
       "2016-06-16  205.5900  208.42  111547742  \n",
       "\n",
       "[100 rows x 10 columns]"
      ]
     },
     "execution_count": 161,
     "metadata": {},
     "output_type": "execute_result"
    }
   ],
   "source": [
    "# Get 1 year's worth of historical data for AAPL\n",
    "df_stock_data =  alpaca.get_barset(\n",
    "    tickers,\n",
    "    timeframe,\n",
    "    start=start_date,\n",
    "    end=end_date\n",
    ").df\n",
    "\n",
    "# Drop the time component of the date\n",
    "df_stock_data.index = df_stock_data.index.date\n",
    "\n",
    "df_stock_data.head(100)"
   ]
  },
  {
   "cell_type": "code",
   "execution_count": 162,
   "metadata": {},
   "outputs": [],
   "source": [
    " # Configuring a Monte Carlo simulation to forecast 30 years cumulative returns\n",
    "# YOUR CODE HERE!\n",
    "# Set number of simulations\n",
    "num_sims = 500\n",
    "\n",
    "# Configure a Monte Carlo simulation to forecast one year daily returns\n",
    "MC= MCSimulation(\n",
    "    portfolio_data = df_stock_data,\n",
    "    weights = [.60,.40],\n",
    "    num_simulation = num_sims,\n",
    "    num_trading_days = 252 * 30\n",
    ")"
   ]
  },
  {
   "cell_type": "code",
   "execution_count": 163,
   "metadata": {},
   "outputs": [
    {
     "name": "stdout",
     "output_type": "stream",
     "text": [
      "Running Monte Carlo simulation number 0.\n",
      "Running Monte Carlo simulation number 10.\n",
      "Running Monte Carlo simulation number 20.\n",
      "Running Monte Carlo simulation number 30.\n",
      "Running Monte Carlo simulation number 40.\n",
      "Running Monte Carlo simulation number 50.\n",
      "Running Monte Carlo simulation number 60.\n",
      "Running Monte Carlo simulation number 70.\n",
      "Running Monte Carlo simulation number 80.\n",
      "Running Monte Carlo simulation number 90.\n",
      "Running Monte Carlo simulation number 100.\n",
      "Running Monte Carlo simulation number 110.\n",
      "Running Monte Carlo simulation number 120.\n",
      "Running Monte Carlo simulation number 130.\n",
      "Running Monte Carlo simulation number 140.\n",
      "Running Monte Carlo simulation number 150.\n",
      "Running Monte Carlo simulation number 160.\n",
      "Running Monte Carlo simulation number 170.\n",
      "Running Monte Carlo simulation number 180.\n",
      "Running Monte Carlo simulation number 190.\n",
      "Running Monte Carlo simulation number 200.\n",
      "Running Monte Carlo simulation number 210.\n",
      "Running Monte Carlo simulation number 220.\n",
      "Running Monte Carlo simulation number 230.\n",
      "Running Monte Carlo simulation number 240.\n",
      "Running Monte Carlo simulation number 250.\n",
      "Running Monte Carlo simulation number 260.\n",
      "Running Monte Carlo simulation number 270.\n",
      "Running Monte Carlo simulation number 280.\n",
      "Running Monte Carlo simulation number 290.\n",
      "Running Monte Carlo simulation number 300.\n",
      "Running Monte Carlo simulation number 310.\n",
      "Running Monte Carlo simulation number 320.\n",
      "Running Monte Carlo simulation number 330.\n",
      "Running Monte Carlo simulation number 340.\n",
      "Running Monte Carlo simulation number 350.\n",
      "Running Monte Carlo simulation number 360.\n",
      "Running Monte Carlo simulation number 370.\n",
      "Running Monte Carlo simulation number 380.\n",
      "Running Monte Carlo simulation number 390.\n",
      "Running Monte Carlo simulation number 400.\n",
      "Running Monte Carlo simulation number 410.\n",
      "Running Monte Carlo simulation number 420.\n",
      "Running Monte Carlo simulation number 430.\n",
      "Running Monte Carlo simulation number 440.\n",
      "Running Monte Carlo simulation number 450.\n",
      "Running Monte Carlo simulation number 460.\n",
      "Running Monte Carlo simulation number 470.\n",
      "Running Monte Carlo simulation number 480.\n",
      "Running Monte Carlo simulation number 490.\n"
     ]
    },
    {
     "data": {
      "text/html": [
       "<div>\n",
       "<style scoped>\n",
       "    .dataframe tbody tr th:only-of-type {\n",
       "        vertical-align: middle;\n",
       "    }\n",
       "\n",
       "    .dataframe tbody tr th {\n",
       "        vertical-align: top;\n",
       "    }\n",
       "\n",
       "    .dataframe thead th {\n",
       "        text-align: right;\n",
       "    }\n",
       "</style>\n",
       "<table border=\"1\" class=\"dataframe\">\n",
       "  <thead>\n",
       "    <tr style=\"text-align: right;\">\n",
       "      <th></th>\n",
       "      <th>0</th>\n",
       "      <th>1</th>\n",
       "      <th>2</th>\n",
       "      <th>3</th>\n",
       "      <th>4</th>\n",
       "      <th>5</th>\n",
       "      <th>6</th>\n",
       "      <th>7</th>\n",
       "      <th>8</th>\n",
       "      <th>9</th>\n",
       "      <th>...</th>\n",
       "      <th>490</th>\n",
       "      <th>491</th>\n",
       "      <th>492</th>\n",
       "      <th>493</th>\n",
       "      <th>494</th>\n",
       "      <th>495</th>\n",
       "      <th>496</th>\n",
       "      <th>497</th>\n",
       "      <th>498</th>\n",
       "      <th>499</th>\n",
       "    </tr>\n",
       "  </thead>\n",
       "  <tbody>\n",
       "    <tr>\n",
       "      <th>0</th>\n",
       "      <td>1.000000</td>\n",
       "      <td>1.000000</td>\n",
       "      <td>1.000000</td>\n",
       "      <td>1.000000</td>\n",
       "      <td>1.000000</td>\n",
       "      <td>1.000000</td>\n",
       "      <td>1.000000</td>\n",
       "      <td>1.000000</td>\n",
       "      <td>1.000000</td>\n",
       "      <td>1.000000</td>\n",
       "      <td>...</td>\n",
       "      <td>1.000000</td>\n",
       "      <td>1.000000</td>\n",
       "      <td>1.000000</td>\n",
       "      <td>1.000000</td>\n",
       "      <td>1.000000</td>\n",
       "      <td>1.000000</td>\n",
       "      <td>1.000000</td>\n",
       "      <td>1.000000</td>\n",
       "      <td>1.000000</td>\n",
       "      <td>1.000000</td>\n",
       "    </tr>\n",
       "    <tr>\n",
       "      <th>1</th>\n",
       "      <td>1.004795</td>\n",
       "      <td>1.000768</td>\n",
       "      <td>1.008333</td>\n",
       "      <td>0.995413</td>\n",
       "      <td>0.993396</td>\n",
       "      <td>0.995204</td>\n",
       "      <td>0.999898</td>\n",
       "      <td>1.004234</td>\n",
       "      <td>0.990646</td>\n",
       "      <td>0.998233</td>\n",
       "      <td>...</td>\n",
       "      <td>1.006512</td>\n",
       "      <td>0.993353</td>\n",
       "      <td>1.000107</td>\n",
       "      <td>1.009055</td>\n",
       "      <td>0.996778</td>\n",
       "      <td>0.999186</td>\n",
       "      <td>1.007255</td>\n",
       "      <td>0.993678</td>\n",
       "      <td>1.003631</td>\n",
       "      <td>0.999037</td>\n",
       "    </tr>\n",
       "    <tr>\n",
       "      <th>2</th>\n",
       "      <td>1.001669</td>\n",
       "      <td>1.000320</td>\n",
       "      <td>1.012010</td>\n",
       "      <td>0.992947</td>\n",
       "      <td>0.999637</td>\n",
       "      <td>0.993959</td>\n",
       "      <td>1.006791</td>\n",
       "      <td>1.009902</td>\n",
       "      <td>0.991295</td>\n",
       "      <td>1.008278</td>\n",
       "      <td>...</td>\n",
       "      <td>1.005185</td>\n",
       "      <td>0.980335</td>\n",
       "      <td>0.993878</td>\n",
       "      <td>1.016093</td>\n",
       "      <td>0.997677</td>\n",
       "      <td>1.000631</td>\n",
       "      <td>1.005838</td>\n",
       "      <td>0.987917</td>\n",
       "      <td>1.003257</td>\n",
       "      <td>1.006266</td>\n",
       "    </tr>\n",
       "    <tr>\n",
       "      <th>3</th>\n",
       "      <td>0.998103</td>\n",
       "      <td>1.003054</td>\n",
       "      <td>1.009432</td>\n",
       "      <td>0.985188</td>\n",
       "      <td>1.002322</td>\n",
       "      <td>0.995574</td>\n",
       "      <td>1.004498</td>\n",
       "      <td>1.007708</td>\n",
       "      <td>0.979865</td>\n",
       "      <td>1.009335</td>\n",
       "      <td>...</td>\n",
       "      <td>1.004622</td>\n",
       "      <td>0.986943</td>\n",
       "      <td>0.997507</td>\n",
       "      <td>1.021839</td>\n",
       "      <td>0.991763</td>\n",
       "      <td>1.007669</td>\n",
       "      <td>1.004690</td>\n",
       "      <td>0.978139</td>\n",
       "      <td>1.002363</td>\n",
       "      <td>1.004659</td>\n",
       "    </tr>\n",
       "    <tr>\n",
       "      <th>4</th>\n",
       "      <td>0.999193</td>\n",
       "      <td>1.006264</td>\n",
       "      <td>1.004630</td>\n",
       "      <td>0.978517</td>\n",
       "      <td>1.005571</td>\n",
       "      <td>0.989145</td>\n",
       "      <td>1.006387</td>\n",
       "      <td>1.011137</td>\n",
       "      <td>0.981813</td>\n",
       "      <td>1.016461</td>\n",
       "      <td>...</td>\n",
       "      <td>1.006356</td>\n",
       "      <td>0.987441</td>\n",
       "      <td>0.995750</td>\n",
       "      <td>1.028870</td>\n",
       "      <td>0.987233</td>\n",
       "      <td>1.002187</td>\n",
       "      <td>0.997056</td>\n",
       "      <td>0.977793</td>\n",
       "      <td>1.012756</td>\n",
       "      <td>1.005874</td>\n",
       "    </tr>\n",
       "    <tr>\n",
       "      <th>...</th>\n",
       "      <td>...</td>\n",
       "      <td>...</td>\n",
       "      <td>...</td>\n",
       "      <td>...</td>\n",
       "      <td>...</td>\n",
       "      <td>...</td>\n",
       "      <td>...</td>\n",
       "      <td>...</td>\n",
       "      <td>...</td>\n",
       "      <td>...</td>\n",
       "      <td>...</td>\n",
       "      <td>...</td>\n",
       "      <td>...</td>\n",
       "      <td>...</td>\n",
       "      <td>...</td>\n",
       "      <td>...</td>\n",
       "      <td>...</td>\n",
       "      <td>...</td>\n",
       "      <td>...</td>\n",
       "      <td>...</td>\n",
       "      <td>...</td>\n",
       "    </tr>\n",
       "    <tr>\n",
       "      <th>7556</th>\n",
       "      <td>9.961771</td>\n",
       "      <td>10.445400</td>\n",
       "      <td>13.623592</td>\n",
       "      <td>7.146246</td>\n",
       "      <td>14.958374</td>\n",
       "      <td>17.214443</td>\n",
       "      <td>6.466687</td>\n",
       "      <td>6.985183</td>\n",
       "      <td>4.459821</td>\n",
       "      <td>4.970308</td>\n",
       "      <td>...</td>\n",
       "      <td>5.803204</td>\n",
       "      <td>13.367572</td>\n",
       "      <td>4.834487</td>\n",
       "      <td>8.906540</td>\n",
       "      <td>12.318397</td>\n",
       "      <td>4.731585</td>\n",
       "      <td>4.683883</td>\n",
       "      <td>5.130235</td>\n",
       "      <td>14.281637</td>\n",
       "      <td>4.250179</td>\n",
       "    </tr>\n",
       "    <tr>\n",
       "      <th>7557</th>\n",
       "      <td>9.925750</td>\n",
       "      <td>10.485098</td>\n",
       "      <td>13.686445</td>\n",
       "      <td>7.082808</td>\n",
       "      <td>14.936545</td>\n",
       "      <td>17.223179</td>\n",
       "      <td>6.469852</td>\n",
       "      <td>7.014537</td>\n",
       "      <td>4.437870</td>\n",
       "      <td>4.987198</td>\n",
       "      <td>...</td>\n",
       "      <td>5.773165</td>\n",
       "      <td>13.443558</td>\n",
       "      <td>4.838999</td>\n",
       "      <td>8.913444</td>\n",
       "      <td>12.390876</td>\n",
       "      <td>4.769772</td>\n",
       "      <td>4.688724</td>\n",
       "      <td>5.110957</td>\n",
       "      <td>14.376400</td>\n",
       "      <td>4.250299</td>\n",
       "    </tr>\n",
       "    <tr>\n",
       "      <th>7558</th>\n",
       "      <td>9.925113</td>\n",
       "      <td>10.455683</td>\n",
       "      <td>13.811945</td>\n",
       "      <td>7.128277</td>\n",
       "      <td>15.060332</td>\n",
       "      <td>17.132828</td>\n",
       "      <td>6.479255</td>\n",
       "      <td>6.992988</td>\n",
       "      <td>4.421188</td>\n",
       "      <td>4.971742</td>\n",
       "      <td>...</td>\n",
       "      <td>5.764231</td>\n",
       "      <td>13.323377</td>\n",
       "      <td>4.836930</td>\n",
       "      <td>8.967297</td>\n",
       "      <td>12.436297</td>\n",
       "      <td>4.789307</td>\n",
       "      <td>4.687309</td>\n",
       "      <td>5.109696</td>\n",
       "      <td>14.294448</td>\n",
       "      <td>4.261705</td>\n",
       "    </tr>\n",
       "    <tr>\n",
       "      <th>7559</th>\n",
       "      <td>9.843007</td>\n",
       "      <td>10.537508</td>\n",
       "      <td>13.858332</td>\n",
       "      <td>7.121378</td>\n",
       "      <td>15.013971</td>\n",
       "      <td>17.326167</td>\n",
       "      <td>6.466012</td>\n",
       "      <td>7.012016</td>\n",
       "      <td>4.409466</td>\n",
       "      <td>4.952808</td>\n",
       "      <td>...</td>\n",
       "      <td>5.761721</td>\n",
       "      <td>13.343107</td>\n",
       "      <td>4.834187</td>\n",
       "      <td>8.967562</td>\n",
       "      <td>12.442061</td>\n",
       "      <td>4.789346</td>\n",
       "      <td>4.698122</td>\n",
       "      <td>5.136179</td>\n",
       "      <td>14.282403</td>\n",
       "      <td>4.226047</td>\n",
       "    </tr>\n",
       "    <tr>\n",
       "      <th>7560</th>\n",
       "      <td>9.713047</td>\n",
       "      <td>10.496782</td>\n",
       "      <td>13.831645</td>\n",
       "      <td>7.192214</td>\n",
       "      <td>14.996366</td>\n",
       "      <td>17.314074</td>\n",
       "      <td>6.476644</td>\n",
       "      <td>7.023047</td>\n",
       "      <td>4.399591</td>\n",
       "      <td>4.955671</td>\n",
       "      <td>...</td>\n",
       "      <td>5.720579</td>\n",
       "      <td>13.320129</td>\n",
       "      <td>4.851965</td>\n",
       "      <td>9.010737</td>\n",
       "      <td>12.473449</td>\n",
       "      <td>4.795867</td>\n",
       "      <td>4.708306</td>\n",
       "      <td>5.126940</td>\n",
       "      <td>14.334878</td>\n",
       "      <td>4.235695</td>\n",
       "    </tr>\n",
       "  </tbody>\n",
       "</table>\n",
       "<p>7561 rows × 500 columns</p>\n",
       "</div>"
      ],
      "text/plain": [
       "           0          1          2         3          4          5    \\\n",
       "0     1.000000   1.000000   1.000000  1.000000   1.000000   1.000000   \n",
       "1     1.004795   1.000768   1.008333  0.995413   0.993396   0.995204   \n",
       "2     1.001669   1.000320   1.012010  0.992947   0.999637   0.993959   \n",
       "3     0.998103   1.003054   1.009432  0.985188   1.002322   0.995574   \n",
       "4     0.999193   1.006264   1.004630  0.978517   1.005571   0.989145   \n",
       "...        ...        ...        ...       ...        ...        ...   \n",
       "7556  9.961771  10.445400  13.623592  7.146246  14.958374  17.214443   \n",
       "7557  9.925750  10.485098  13.686445  7.082808  14.936545  17.223179   \n",
       "7558  9.925113  10.455683  13.811945  7.128277  15.060332  17.132828   \n",
       "7559  9.843007  10.537508  13.858332  7.121378  15.013971  17.326167   \n",
       "7560  9.713047  10.496782  13.831645  7.192214  14.996366  17.314074   \n",
       "\n",
       "           6         7         8         9    ...       490        491  \\\n",
       "0     1.000000  1.000000  1.000000  1.000000  ...  1.000000   1.000000   \n",
       "1     0.999898  1.004234  0.990646  0.998233  ...  1.006512   0.993353   \n",
       "2     1.006791  1.009902  0.991295  1.008278  ...  1.005185   0.980335   \n",
       "3     1.004498  1.007708  0.979865  1.009335  ...  1.004622   0.986943   \n",
       "4     1.006387  1.011137  0.981813  1.016461  ...  1.006356   0.987441   \n",
       "...        ...       ...       ...       ...  ...       ...        ...   \n",
       "7556  6.466687  6.985183  4.459821  4.970308  ...  5.803204  13.367572   \n",
       "7557  6.469852  7.014537  4.437870  4.987198  ...  5.773165  13.443558   \n",
       "7558  6.479255  6.992988  4.421188  4.971742  ...  5.764231  13.323377   \n",
       "7559  6.466012  7.012016  4.409466  4.952808  ...  5.761721  13.343107   \n",
       "7560  6.476644  7.023047  4.399591  4.955671  ...  5.720579  13.320129   \n",
       "\n",
       "           492       493        494       495       496       497        498  \\\n",
       "0     1.000000  1.000000   1.000000  1.000000  1.000000  1.000000   1.000000   \n",
       "1     1.000107  1.009055   0.996778  0.999186  1.007255  0.993678   1.003631   \n",
       "2     0.993878  1.016093   0.997677  1.000631  1.005838  0.987917   1.003257   \n",
       "3     0.997507  1.021839   0.991763  1.007669  1.004690  0.978139   1.002363   \n",
       "4     0.995750  1.028870   0.987233  1.002187  0.997056  0.977793   1.012756   \n",
       "...        ...       ...        ...       ...       ...       ...        ...   \n",
       "7556  4.834487  8.906540  12.318397  4.731585  4.683883  5.130235  14.281637   \n",
       "7557  4.838999  8.913444  12.390876  4.769772  4.688724  5.110957  14.376400   \n",
       "7558  4.836930  8.967297  12.436297  4.789307  4.687309  5.109696  14.294448   \n",
       "7559  4.834187  8.967562  12.442061  4.789346  4.698122  5.136179  14.282403   \n",
       "7560  4.851965  9.010737  12.473449  4.795867  4.708306  5.126940  14.334878   \n",
       "\n",
       "           499  \n",
       "0     1.000000  \n",
       "1     0.999037  \n",
       "2     1.006266  \n",
       "3     1.004659  \n",
       "4     1.005874  \n",
       "...        ...  \n",
       "7556  4.250179  \n",
       "7557  4.250299  \n",
       "7558  4.261705  \n",
       "7559  4.226047  \n",
       "7560  4.235695  \n",
       "\n",
       "[7561 rows x 500 columns]"
      ]
     },
     "execution_count": 163,
     "metadata": {},
     "output_type": "execute_result"
    }
   ],
   "source": [
    "# Run Monte Carlo simulations to forecast one year daily returns\n",
    "MC.calc_cumulative_return()"
   ]
  },
  {
   "cell_type": "code",
   "execution_count": 164,
   "metadata": {},
   "outputs": [
    {
     "data": {
      "image/png": "[encoded data removed]",
      "text/plain": [
       "<Figure size 432x288 with 1 Axes>"
      ]
     },
     "metadata": {
      "needs_background": "light"
     },
     "output_type": "display_data"
    }
   ],
   "source": [
    "### Plot the Simulated Outcomes for the Next Year (252 Traiding Days\n",
    "line_plot = MC.plot_simulation()"
   ]
  },
  {
   "cell_type": "code",
   "execution_count": 165,
   "metadata": {},
   "outputs": [
    {
     "data": {
      "image/png": "[encoded data removed]",
      "text/plain": [
       "<Figure size 432x288 with 1 Axes>"
      ]
     },
     "metadata": {
      "needs_background": "light"
     },
     "output_type": "display_data"
    }
   ],
   "source": [
    "# Plot probability distribution and confidence intervals\n",
    "dist_plot = MC.plot_distribution()"
   ]
  },
  {
   "cell_type": "markdown",
   "metadata": {},
   "source": [
    "#  Retirement Analysis"
   ]
  },
  {
   "cell_type": "code",
   "execution_count": 166,
   "metadata": {},
   "outputs": [
    {
     "name": "stdout",
     "output_type": "stream",
     "text": [
      "count           500.000000\n",
      "mean              9.007321\n",
      "std               3.978388\n",
      "min               2.111338\n",
      "25%               6.185294\n",
      "50%               8.056103\n",
      "75%              10.796746\n",
      "max              26.541848\n",
      "95% CI Lower      3.776923\n",
      "95% CI Upper     19.237723\n",
      "Name: 7560, dtype: float64\n"
     ]
    }
   ],
   "source": [
    "# Fetch summary statistics from the Monte Carlo simulation results\n",
    "# Fetch summary statistics from the Monte Carlo simulation results\n",
    "AGG_SPY_tbl = MC.summarize_cumulative_return()\n",
    "\n",
    "# Print summary statistics\n",
    "print(AGG_SPY_tbl)"
   ]
  },
  {
   "cell_type": "markdown",
   "metadata": {},
   "source": [
    "###  Calculate the expected portfolio return at the 95% lower and upper confidence intervals based on a $20,000 initial investment."
   ]
  },
  {
   "cell_type": "code",
   "execution_count": 167,
   "metadata": {},
   "outputs": [
    {
     "name": "stdout",
     "output_type": "stream",
     "text": [
      "There is a 95% chance that an initial investment of $20000 in the portfolio over the next 30 years will end within in the range of $75538.45 and $384754.47\n"
     ]
    }
   ],
   "source": [
    " # Set initial investment\n",
    "initial_investment = 20000\n",
    "\n",
    "\n",
    "# Use the lower and upper `95%` confidence intervals to calculate the range of the possible outcomes of our $20,000 investments\n",
    "AGG_SPY_ci_lower = round(AGG_SPY_tbl[8]*initial_investment,2)\n",
    "AGG_SPY_ci_upper = round(AGG_SPY_tbl[9]*initial_investment,2)\n",
    "\n",
    "# Print results\n",
    "print(f\"There is a 95% chance that an initial investment of ${initial_investment} in the portfolio\"\n",
    "      f\" over the next 30 years will end within in the range of\"\n",
    "      f\" ${AGG_SPY_ci_lower} and ${AGG_SPY_ci_upper }\")"
   ]
  },
  {
   "cell_type": "markdown",
   "metadata": {},
   "source": [
    "### Calculate the expected portfolio return at the 95% lower and upper confidence intervals based on a 50% increase in the initial investment."
   ]
  },
  {
   "cell_type": "code",
   "execution_count": 168,
   "metadata": {},
   "outputs": [
    {
     "name": "stdout",
     "output_type": "stream",
     "text": [
      "There is a 95% chance that an initial investment of $30000.0 in the portfolio over the next 30 years will end within in the range of $113307.68 and $577131.7\n"
     ]
    }
   ],
   "source": [
    "# Set initial investment\n",
    "initial_investment = 20000 * 1.5\n",
    "\n",
    "# Use the lower and upper `95%` confidence intervals to calculate the range of the possible outcomes of our $20,000 investments\n",
    "AGG_SPY_ci_lower = round(AGG_SPY_tbl[8]*initial_investment,2)\n",
    "AGG_SPY_ci_upper = round(AGG_SPY_tbl[9]*initial_investment,2)\n",
    "\n",
    "# Print results\n",
    "print(f\"There is a 95% chance that an initial investment of ${initial_investment} in the portfolio\"\n",
    "      f\" over the next 30 years will end within in the range of\"\n",
    "      f\" ${AGG_SPY_ci_lower} and ${AGG_SPY_ci_upper }\")"
   ]
  },
  {
   "cell_type": "code",
   "execution_count": null,
   "metadata": {},
   "outputs": [],
   "source": []
  }
 ],
 "metadata": {
  "kernelspec": {
   "display_name": "Python 3",
   "language": "python",
   "name": "python3"
  },
  "language_info": {
   "codemirror_mode": {
    "name": "ipython",
    "version": 3
   },
   "file_extension": ".py",
   "mimetype": "text/x-python",
   "name": "python",
   "nbconvert_exporter": "python",
   "pygments_lexer": "ipython3",
   "version": "3.8.5"
  }
 },
 "nbformat": 4,
 "nbformat_minor": 4
}
